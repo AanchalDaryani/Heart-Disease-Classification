{
 "cells": [
  {
   "cell_type": "markdown",
   "id": "170b823f",
   "metadata": {},
   "source": [
    "  <tr>\n",
    "        <td>\n",
    "            <div align=\"left\">\n",
    "                <font size=25px>\n",
    "                    <b> Predicting whether the Patients have heart disease or not\n",
    "                    </b>\n",
    "                </font>\n",
    "            </div>\n",
    "        </td>\n",
    "    </tr>"
   ]
  },
  {
   "cell_type": "markdown",
   "id": "3b17b254",
   "metadata": {},
   "source": [
    "# Problem Statement :\n",
    "Analyze the heart disease dataset to explore the machine learning algorithms and different models to predict the disease."
   ]
  },
  {
   "cell_type": "markdown",
   "id": "2fa70f71",
   "metadata": {},
   "source": [
    "# Data Definition:\n",
    "## Variable Description:\n",
    "\n",
    "### Column\tDescription \n",
    "    1. age - Age of the patient\n",
    "    2. gender -\tGender of the patient - (0,1) - (Male, Female)\n",
    "    3. chest_pain -\tIt refers to the chest pain experienced by the patient -(0,1,2,3)\n",
    "    4. rest_bps - Blood pressure of the patient while resting(in mm/Hg)\n",
    "    5. cholesterol - Patient's cholesterol level (in mg/dl)\n",
    "    6. fasting_blood_sugar - The blood sugar of the patient while fasting\n",
    "    7. rest_ecg - Potassium level (0,1,2)\n",
    "    8. thalach - The patient’s maximum heart rate\n",
    "    9. exer_angina - It refers to exercise-induced angina - (1=Yes, 0=No)\n",
    "    10. old_peak - It is the ST depression induced by exercise relative to rest(ST relates to the position on ECG plots)\n",
    "    11. slope - It refers to the slope of the peak of the exercise ST-Segment- (0,1,2)\n",
    "    12. ca - Number of major vessels - (0,1,2,3,4)\n",
    "    13. thalassemia\t- It refers to thalassemia which is a blood disorder - (0,1,2,3)\n",
    "    \n",
    "* 14. target - The patient has heart disease or not - (1=Yes, 0=No)\n"
   ]
  },
  {
   "cell_type": "markdown",
   "id": "af398814",
   "metadata": {},
   "source": [
    "1. **[Import Packages](#import_packages)**\n",
    "2. **[Loading Data](#Read_Data)**\n",
    "3. **[Understand and Prepare the Data](#data_preparation)**\n",
    "    - 3.1 - [Data Types and Dimensions](#Data_Types)\n",
    "    - 3.2 - [Statistical Summary](#Statistical_Summary)\n",
    "    - 3.3 - [Visualization](#Visualization)\n",
    "    - 3.4 - [Outlier Handling](#Outlier_Handling)\n",
    "    - 3.5 - [Correlation](#Correlation)\n",
    "    - 3.6 - [Standardization](#Standardizing_Data)\n",
    " \n",
    "4. **[Model Building](#Model_Building)**\n",
    "    - 4.1 - [Decision Tree](#Decision_tree)\n",
    "    - 4.2 - [Tuned Decision Tree](#Grid_Search_CV)\n",
    "    - 4.3 - [Logistic Regression](#Logistic_regression)\n",
    "    - 4.4 - [Tuned Logistic Regression](#Tuned_LR)\n",
    "    - 4.5 - [Support Vector Machine](#SVM)\n",
    "  \n",
    "5. **[Model Comparision](#Model_comparision)**  \n",
    "    "
   ]
  },
  {
   "cell_type": "markdown",
   "id": "fe7ba2b8",
   "metadata": {},
   "source": [
    "<a id='import_packages'></a>\n",
    "## Importing Libraries"
   ]
  },
  {
   "cell_type": "code",
   "execution_count": 1,
   "id": "3d161537",
   "metadata": {},
   "outputs": [],
   "source": [
    "import pandas as pd\n",
    "import numpy as np\n",
    "import matplotlib.pyplot as plt\n",
    "import seaborn as sns"
   ]
  },
  {
   "cell_type": "markdown",
   "id": "93de487e",
   "metadata": {},
   "source": [
    "<a id='Read_Data'></a>\n",
    "## Loading the Data"
   ]
  },
  {
   "cell_type": "code",
   "execution_count": 2,
   "id": "010cf7ee",
   "metadata": {},
   "outputs": [],
   "source": [
    "hd_df=pd.read_csv(r'C:\\Users\\HELLO\\Documents\\Python Scripts\\Heart Disease.csv')"
   ]
  },
  {
   "cell_type": "code",
   "execution_count": 3,
   "id": "ee395fe1",
   "metadata": {},
   "outputs": [
    {
     "data": {
      "text/html": [
       "<div>\n",
       "<style scoped>\n",
       "    .dataframe tbody tr th:only-of-type {\n",
       "        vertical-align: middle;\n",
       "    }\n",
       "\n",
       "    .dataframe tbody tr th {\n",
       "        vertical-align: top;\n",
       "    }\n",
       "\n",
       "    .dataframe thead th {\n",
       "        text-align: right;\n",
       "    }\n",
       "</style>\n",
       "<table border=\"1\" class=\"dataframe\">\n",
       "  <thead>\n",
       "    <tr style=\"text-align: right;\">\n",
       "      <th></th>\n",
       "      <th>age</th>\n",
       "      <th>gender</th>\n",
       "      <th>chest_pain</th>\n",
       "      <th>rest_bps</th>\n",
       "      <th>cholestrol</th>\n",
       "      <th>fasting_blood_sugar</th>\n",
       "      <th>rest_ecg</th>\n",
       "      <th>thalach</th>\n",
       "      <th>exer_angina</th>\n",
       "      <th>old_peak</th>\n",
       "      <th>slope</th>\n",
       "      <th>ca</th>\n",
       "      <th>thalassemia</th>\n",
       "      <th>target</th>\n",
       "    </tr>\n",
       "  </thead>\n",
       "  <tbody>\n",
       "    <tr>\n",
       "      <th>0</th>\n",
       "      <td>63</td>\n",
       "      <td>1</td>\n",
       "      <td>3</td>\n",
       "      <td>145</td>\n",
       "      <td>233</td>\n",
       "      <td>1</td>\n",
       "      <td>0</td>\n",
       "      <td>150</td>\n",
       "      <td>0</td>\n",
       "      <td>2.3</td>\n",
       "      <td>0</td>\n",
       "      <td>0</td>\n",
       "      <td>1</td>\n",
       "      <td>1</td>\n",
       "    </tr>\n",
       "    <tr>\n",
       "      <th>1</th>\n",
       "      <td>37</td>\n",
       "      <td>1</td>\n",
       "      <td>2</td>\n",
       "      <td>130</td>\n",
       "      <td>250</td>\n",
       "      <td>0</td>\n",
       "      <td>1</td>\n",
       "      <td>187</td>\n",
       "      <td>0</td>\n",
       "      <td>3.5</td>\n",
       "      <td>0</td>\n",
       "      <td>0</td>\n",
       "      <td>2</td>\n",
       "      <td>1</td>\n",
       "    </tr>\n",
       "    <tr>\n",
       "      <th>2</th>\n",
       "      <td>41</td>\n",
       "      <td>0</td>\n",
       "      <td>1</td>\n",
       "      <td>130</td>\n",
       "      <td>204</td>\n",
       "      <td>0</td>\n",
       "      <td>0</td>\n",
       "      <td>172</td>\n",
       "      <td>0</td>\n",
       "      <td>1.4</td>\n",
       "      <td>2</td>\n",
       "      <td>0</td>\n",
       "      <td>2</td>\n",
       "      <td>1</td>\n",
       "    </tr>\n",
       "    <tr>\n",
       "      <th>3</th>\n",
       "      <td>56</td>\n",
       "      <td>1</td>\n",
       "      <td>1</td>\n",
       "      <td>120</td>\n",
       "      <td>236</td>\n",
       "      <td>0</td>\n",
       "      <td>1</td>\n",
       "      <td>178</td>\n",
       "      <td>0</td>\n",
       "      <td>0.8</td>\n",
       "      <td>2</td>\n",
       "      <td>0</td>\n",
       "      <td>2</td>\n",
       "      <td>1</td>\n",
       "    </tr>\n",
       "    <tr>\n",
       "      <th>4</th>\n",
       "      <td>57</td>\n",
       "      <td>0</td>\n",
       "      <td>0</td>\n",
       "      <td>120</td>\n",
       "      <td>354</td>\n",
       "      <td>0</td>\n",
       "      <td>1</td>\n",
       "      <td>163</td>\n",
       "      <td>1</td>\n",
       "      <td>0.6</td>\n",
       "      <td>2</td>\n",
       "      <td>0</td>\n",
       "      <td>2</td>\n",
       "      <td>1</td>\n",
       "    </tr>\n",
       "  </tbody>\n",
       "</table>\n",
       "</div>"
      ],
      "text/plain": [
       "   age  gender  chest_pain  rest_bps  cholestrol  fasting_blood_sugar  \\\n",
       "0   63       1           3       145         233                    1   \n",
       "1   37       1           2       130         250                    0   \n",
       "2   41       0           1       130         204                    0   \n",
       "3   56       1           1       120         236                    0   \n",
       "4   57       0           0       120         354                    0   \n",
       "\n",
       "   rest_ecg  thalach  exer_angina  old_peak  slope  ca  thalassemia  target  \n",
       "0         0      150            0       2.3      0   0            1       1  \n",
       "1         1      187            0       3.5      0   0            2       1  \n",
       "2         0      172            0       1.4      2   0            2       1  \n",
       "3         1      178            0       0.8      2   0            2       1  \n",
       "4         1      163            1       0.6      2   0            2       1  "
      ]
     },
     "execution_count": 3,
     "metadata": {},
     "output_type": "execute_result"
    }
   ],
   "source": [
    "hd_df.head()"
   ]
  },
  {
   "cell_type": "markdown",
   "id": "0f2dfdcc",
   "metadata": {
    "id": "LDnUpG9LW85l"
   },
   "source": [
    "<a id='data_preparation'></a>\n",
    "## 3. Understand and Prepare the Data"
   ]
  },
  {
   "cell_type": "markdown",
   "id": "1bf99891",
   "metadata": {
    "id": "L0A2q9ByW85l"
   },
   "source": [
    "<table align=\"left\">\n",
    "    <tr>\n",
    "        <td width=\"8%\">\n",
    "            <img src=\"key.png\">\n",
    "        </td>\n",
    "        <td>\n",
    "            <div align=\"left\", style=\"font-size:120%\">\n",
    "                    <b>The process of data preparation entails cleansing, structuring and integrating data to make it ready for analysis. <br><br>\n",
    "                        Here we will analyze and prepare data :<br>\n",
    "                        1. Check dimensions and data types of the dataframe <br>\n",
    "                        2. Study summary statistics<br> \n",
    "                        3. Check for missing values<br>\n",
    "                        4. Study correlation<br>\n",
    "                                       </b>\n",
    "                </font>\n",
    "            </div>\n",
    "        </td>\n",
    "    </tr>\n",
    "</table>"
   ]
  },
  {
   "cell_type": "markdown",
   "id": "021bb694",
   "metadata": {},
   "source": [
    "<a id='Data_Types'></a>\n",
    "## 3.1 Data Types and Dimensions"
   ]
  },
  {
   "cell_type": "code",
   "execution_count": 4,
   "id": "d7ef4cc5",
   "metadata": {},
   "outputs": [
    {
     "data": {
      "text/plain": [
       "Index(['age', 'gender', 'chest_pain', 'rest_bps', 'cholestrol',\n",
       "       'fasting_blood_sugar', 'rest_ecg', 'thalach', 'exer_angina', 'old_peak',\n",
       "       'slope', 'ca', 'thalassemia', 'target'],\n",
       "      dtype='object')"
      ]
     },
     "execution_count": 4,
     "metadata": {},
     "output_type": "execute_result"
    }
   ],
   "source": [
    "hd_df.columns"
   ]
  },
  {
   "cell_type": "code",
   "execution_count": 5,
   "id": "a9209922",
   "metadata": {},
   "outputs": [
    {
     "data": {
      "text/plain": [
       "(303, 14)"
      ]
     },
     "execution_count": 5,
     "metadata": {},
     "output_type": "execute_result"
    }
   ],
   "source": [
    "hd_df.shape"
   ]
  },
  {
   "cell_type": "code",
   "execution_count": 6,
   "id": "a9c1a4e3",
   "metadata": {},
   "outputs": [
    {
     "data": {
      "text/plain": [
       "age                      int64\n",
       "gender                   int64\n",
       "chest_pain               int64\n",
       "rest_bps                 int64\n",
       "cholestrol               int64\n",
       "fasting_blood_sugar      int64\n",
       "rest_ecg                 int64\n",
       "thalach                  int64\n",
       "exer_angina              int64\n",
       "old_peak               float64\n",
       "slope                    int64\n",
       "ca                       int64\n",
       "thalassemia              int64\n",
       "target                   int64\n",
       "dtype: object"
      ]
     },
     "execution_count": 6,
     "metadata": {},
     "output_type": "execute_result"
    }
   ],
   "source": [
    "hd_df.dtypes"
   ]
  },
  {
   "cell_type": "code",
   "execution_count": 7,
   "id": "8e5c3ff7",
   "metadata": {},
   "outputs": [
    {
     "name": "stdout",
     "output_type": "stream",
     "text": [
      "<class 'pandas.core.frame.DataFrame'>\n",
      "RangeIndex: 303 entries, 0 to 302\n",
      "Data columns (total 14 columns):\n",
      " #   Column               Non-Null Count  Dtype  \n",
      "---  ------               --------------  -----  \n",
      " 0   age                  303 non-null    int64  \n",
      " 1   gender               303 non-null    int64  \n",
      " 2   chest_pain           303 non-null    int64  \n",
      " 3   rest_bps             303 non-null    int64  \n",
      " 4   cholestrol           303 non-null    int64  \n",
      " 5   fasting_blood_sugar  303 non-null    int64  \n",
      " 6   rest_ecg             303 non-null    int64  \n",
      " 7   thalach              303 non-null    int64  \n",
      " 8   exer_angina          303 non-null    int64  \n",
      " 9   old_peak             303 non-null    float64\n",
      " 10  slope                303 non-null    int64  \n",
      " 11  ca                   303 non-null    int64  \n",
      " 12  thalassemia          303 non-null    int64  \n",
      " 13  target               303 non-null    int64  \n",
      "dtypes: float64(1), int64(13)\n",
      "memory usage: 33.3 KB\n"
     ]
    }
   ],
   "source": [
    "hd_df.info()"
   ]
  },
  {
   "cell_type": "markdown",
   "id": "313bdaee",
   "metadata": {},
   "source": [
    "* The data types are in numeric form hence there is no need to change from categorical to numerical data."
   ]
  },
  {
   "cell_type": "markdown",
   "id": "4d968ba2",
   "metadata": {},
   "source": [
    "<a id='Statistical_Summary'></a>\n",
    "## 3.2 Statistical Summary\n",
    "Here we take a look at the summary of each attribute. This includes the count, mean, the min and max values as well as some percentiles for numeric variables."
   ]
  },
  {
   "cell_type": "code",
   "execution_count": 8,
   "id": "7f3416a4",
   "metadata": {
    "scrolled": true
   },
   "outputs": [
    {
     "data": {
      "text/html": [
       "<div>\n",
       "<style scoped>\n",
       "    .dataframe tbody tr th:only-of-type {\n",
       "        vertical-align: middle;\n",
       "    }\n",
       "\n",
       "    .dataframe tbody tr th {\n",
       "        vertical-align: top;\n",
       "    }\n",
       "\n",
       "    .dataframe thead th {\n",
       "        text-align: right;\n",
       "    }\n",
       "</style>\n",
       "<table border=\"1\" class=\"dataframe\">\n",
       "  <thead>\n",
       "    <tr style=\"text-align: right;\">\n",
       "      <th></th>\n",
       "      <th>age</th>\n",
       "      <th>gender</th>\n",
       "      <th>chest_pain</th>\n",
       "      <th>rest_bps</th>\n",
       "      <th>cholestrol</th>\n",
       "      <th>fasting_blood_sugar</th>\n",
       "      <th>rest_ecg</th>\n",
       "      <th>thalach</th>\n",
       "      <th>exer_angina</th>\n",
       "      <th>old_peak</th>\n",
       "      <th>slope</th>\n",
       "      <th>ca</th>\n",
       "      <th>thalassemia</th>\n",
       "      <th>target</th>\n",
       "    </tr>\n",
       "  </thead>\n",
       "  <tbody>\n",
       "    <tr>\n",
       "      <th>count</th>\n",
       "      <td>303.000000</td>\n",
       "      <td>303.000000</td>\n",
       "      <td>303.000000</td>\n",
       "      <td>303.000000</td>\n",
       "      <td>303.000000</td>\n",
       "      <td>303.000000</td>\n",
       "      <td>303.000000</td>\n",
       "      <td>303.000000</td>\n",
       "      <td>303.000000</td>\n",
       "      <td>303.000000</td>\n",
       "      <td>303.000000</td>\n",
       "      <td>303.000000</td>\n",
       "      <td>303.000000</td>\n",
       "      <td>303.000000</td>\n",
       "    </tr>\n",
       "    <tr>\n",
       "      <th>mean</th>\n",
       "      <td>54.366337</td>\n",
       "      <td>0.683168</td>\n",
       "      <td>0.966997</td>\n",
       "      <td>131.623762</td>\n",
       "      <td>246.264026</td>\n",
       "      <td>0.148515</td>\n",
       "      <td>0.528053</td>\n",
       "      <td>149.646865</td>\n",
       "      <td>0.326733</td>\n",
       "      <td>1.039604</td>\n",
       "      <td>1.399340</td>\n",
       "      <td>0.729373</td>\n",
       "      <td>2.313531</td>\n",
       "      <td>0.544554</td>\n",
       "    </tr>\n",
       "    <tr>\n",
       "      <th>std</th>\n",
       "      <td>9.082101</td>\n",
       "      <td>0.466011</td>\n",
       "      <td>1.032052</td>\n",
       "      <td>17.538143</td>\n",
       "      <td>51.830751</td>\n",
       "      <td>0.356198</td>\n",
       "      <td>0.525860</td>\n",
       "      <td>22.905161</td>\n",
       "      <td>0.469794</td>\n",
       "      <td>1.161075</td>\n",
       "      <td>0.616226</td>\n",
       "      <td>1.022606</td>\n",
       "      <td>0.612277</td>\n",
       "      <td>0.498835</td>\n",
       "    </tr>\n",
       "    <tr>\n",
       "      <th>min</th>\n",
       "      <td>29.000000</td>\n",
       "      <td>0.000000</td>\n",
       "      <td>0.000000</td>\n",
       "      <td>94.000000</td>\n",
       "      <td>126.000000</td>\n",
       "      <td>0.000000</td>\n",
       "      <td>0.000000</td>\n",
       "      <td>71.000000</td>\n",
       "      <td>0.000000</td>\n",
       "      <td>0.000000</td>\n",
       "      <td>0.000000</td>\n",
       "      <td>0.000000</td>\n",
       "      <td>0.000000</td>\n",
       "      <td>0.000000</td>\n",
       "    </tr>\n",
       "    <tr>\n",
       "      <th>25%</th>\n",
       "      <td>47.500000</td>\n",
       "      <td>0.000000</td>\n",
       "      <td>0.000000</td>\n",
       "      <td>120.000000</td>\n",
       "      <td>211.000000</td>\n",
       "      <td>0.000000</td>\n",
       "      <td>0.000000</td>\n",
       "      <td>133.500000</td>\n",
       "      <td>0.000000</td>\n",
       "      <td>0.000000</td>\n",
       "      <td>1.000000</td>\n",
       "      <td>0.000000</td>\n",
       "      <td>2.000000</td>\n",
       "      <td>0.000000</td>\n",
       "    </tr>\n",
       "    <tr>\n",
       "      <th>50%</th>\n",
       "      <td>55.000000</td>\n",
       "      <td>1.000000</td>\n",
       "      <td>1.000000</td>\n",
       "      <td>130.000000</td>\n",
       "      <td>240.000000</td>\n",
       "      <td>0.000000</td>\n",
       "      <td>1.000000</td>\n",
       "      <td>153.000000</td>\n",
       "      <td>0.000000</td>\n",
       "      <td>0.800000</td>\n",
       "      <td>1.000000</td>\n",
       "      <td>0.000000</td>\n",
       "      <td>2.000000</td>\n",
       "      <td>1.000000</td>\n",
       "    </tr>\n",
       "    <tr>\n",
       "      <th>75%</th>\n",
       "      <td>61.000000</td>\n",
       "      <td>1.000000</td>\n",
       "      <td>2.000000</td>\n",
       "      <td>140.000000</td>\n",
       "      <td>274.500000</td>\n",
       "      <td>0.000000</td>\n",
       "      <td>1.000000</td>\n",
       "      <td>166.000000</td>\n",
       "      <td>1.000000</td>\n",
       "      <td>1.600000</td>\n",
       "      <td>2.000000</td>\n",
       "      <td>1.000000</td>\n",
       "      <td>3.000000</td>\n",
       "      <td>1.000000</td>\n",
       "    </tr>\n",
       "    <tr>\n",
       "      <th>max</th>\n",
       "      <td>77.000000</td>\n",
       "      <td>1.000000</td>\n",
       "      <td>3.000000</td>\n",
       "      <td>200.000000</td>\n",
       "      <td>564.000000</td>\n",
       "      <td>1.000000</td>\n",
       "      <td>2.000000</td>\n",
       "      <td>202.000000</td>\n",
       "      <td>1.000000</td>\n",
       "      <td>6.200000</td>\n",
       "      <td>2.000000</td>\n",
       "      <td>4.000000</td>\n",
       "      <td>3.000000</td>\n",
       "      <td>1.000000</td>\n",
       "    </tr>\n",
       "  </tbody>\n",
       "</table>\n",
       "</div>"
      ],
      "text/plain": [
       "              age      gender  chest_pain    rest_bps  cholestrol  \\\n",
       "count  303.000000  303.000000  303.000000  303.000000  303.000000   \n",
       "mean    54.366337    0.683168    0.966997  131.623762  246.264026   \n",
       "std      9.082101    0.466011    1.032052   17.538143   51.830751   \n",
       "min     29.000000    0.000000    0.000000   94.000000  126.000000   \n",
       "25%     47.500000    0.000000    0.000000  120.000000  211.000000   \n",
       "50%     55.000000    1.000000    1.000000  130.000000  240.000000   \n",
       "75%     61.000000    1.000000    2.000000  140.000000  274.500000   \n",
       "max     77.000000    1.000000    3.000000  200.000000  564.000000   \n",
       "\n",
       "       fasting_blood_sugar    rest_ecg     thalach  exer_angina    old_peak  \\\n",
       "count           303.000000  303.000000  303.000000   303.000000  303.000000   \n",
       "mean              0.148515    0.528053  149.646865     0.326733    1.039604   \n",
       "std               0.356198    0.525860   22.905161     0.469794    1.161075   \n",
       "min               0.000000    0.000000   71.000000     0.000000    0.000000   \n",
       "25%               0.000000    0.000000  133.500000     0.000000    0.000000   \n",
       "50%               0.000000    1.000000  153.000000     0.000000    0.800000   \n",
       "75%               0.000000    1.000000  166.000000     1.000000    1.600000   \n",
       "max               1.000000    2.000000  202.000000     1.000000    6.200000   \n",
       "\n",
       "            slope          ca  thalassemia      target  \n",
       "count  303.000000  303.000000   303.000000  303.000000  \n",
       "mean     1.399340    0.729373     2.313531    0.544554  \n",
       "std      0.616226    1.022606     0.612277    0.498835  \n",
       "min      0.000000    0.000000     0.000000    0.000000  \n",
       "25%      1.000000    0.000000     2.000000    0.000000  \n",
       "50%      1.000000    0.000000     2.000000    1.000000  \n",
       "75%      2.000000    1.000000     3.000000    1.000000  \n",
       "max      2.000000    4.000000     3.000000    1.000000  "
      ]
     },
     "execution_count": 8,
     "metadata": {},
     "output_type": "execute_result"
    }
   ],
   "source": [
    "hd_df.describe()"
   ]
  },
  {
   "cell_type": "markdown",
   "id": "6a34b571",
   "metadata": {},
   "source": [
    "* The count for all variables is equal meaning no missing values to deal with.\n",
    "* The maximmum values in cholesterol and old peak are very high."
   ]
  },
  {
   "cell_type": "markdown",
   "id": "b6f9690a",
   "metadata": {},
   "source": [
    "<a id='Visualization'></a>\n",
    "## 3.3. Visualization\n"
   ]
  },
  {
   "cell_type": "code",
   "execution_count": 9,
   "id": "11deaa0a",
   "metadata": {},
   "outputs": [
    {
     "data": {
      "text/plain": [
       "array([1, 0], dtype=int64)"
      ]
     },
     "execution_count": 9,
     "metadata": {},
     "output_type": "execute_result"
    }
   ],
   "source": [
    "hd_df['target'].unique()"
   ]
  },
  {
   "cell_type": "code",
   "execution_count": 10,
   "id": "cc463731",
   "metadata": {},
   "outputs": [
    {
     "name": "stdout",
     "output_type": "stream",
     "text": [
      "Number of Patients with heart disease :  165\n",
      "Number of Patients not with heart disease  :  138\n"
     ]
    },
    {
     "data": {
      "image/png": "[encoded data removed]",
      "text/plain": [
       "<Figure size 640x480 with 1 Axes>"
      ]
     },
     "metadata": {},
     "output_type": "display_data"
    }
   ],
   "source": [
    "sns.countplot(x=hd_df['target'],data=hd_df,palette=\"viridis\")\n",
    "S, N = hd_df['target'].value_counts()\n",
    "print('Number of Patients with heart disease : ',S)\n",
    "print('Number of Patients not with heart disease  : ',N)"
   ]
  },
  {
   "cell_type": "markdown",
   "id": "d53bb76d",
   "metadata": {},
   "source": [
    "* We see that patients with heart disease are comparatively more as well as the data is balanced"
   ]
  },
  {
   "cell_type": "code",
   "execution_count": 11,
   "id": "12f96b33",
   "metadata": {},
   "outputs": [],
   "source": [
    "def plot_bar(column):\n",
    "    # temp df \n",
    "    temp_1 = pd.DataFrame()\n",
    "    # count categorical values\n",
    "    temp_1['No_heart_disease'] = hd_df[hd_df['target'] == 0][column].value_counts()\n",
    "    temp_1['Heart_disease'] = hd_df[hd_df['target'] == 1][column].value_counts()\n",
    "    temp_1.plot(kind='bar')\n",
    "    plt.xlabel(f'{column}')\n",
    "    plt.ylabel('Number of patients')\n",
    "    plt.title('Distribution of {} and deposit'.format(column))\n",
    "    plt.show()"
   ]
  },
  {
   "cell_type": "code",
   "execution_count": 12,
   "id": "56e15883",
   "metadata": {},
   "outputs": [
    {
     "data": {
      "image/png": "[encoded data removed]",
      "text/plain": [
       "<Figure size 640x480 with 1 Axes>"
      ]
     },
     "metadata": {},
     "output_type": "display_data"
    }
   ],
   "source": [
    "plot_bar('ca')"
   ]
  },
  {
   "cell_type": "code",
   "execution_count": 13,
   "id": "2e2ddd3f",
   "metadata": {},
   "outputs": [
    {
     "data": {
      "image/png": "[encoded data removed]",
      "text/plain": [
       "<Figure size 640x480 with 1 Axes>"
      ]
     },
     "metadata": {},
     "output_type": "display_data"
    }
   ],
   "source": [
    "plot_bar('thalassemia')"
   ]
  },
  {
   "cell_type": "code",
   "execution_count": 14,
   "id": "54407505",
   "metadata": {},
   "outputs": [
    {
     "data": {
      "image/png": "[encoded data removed]",
      "text/plain": [
       "<Figure size 640x480 with 1 Axes>"
      ]
     },
     "metadata": {},
     "output_type": "display_data"
    }
   ],
   "source": [
    "plot_bar('exer_angina')"
   ]
  },
  {
   "cell_type": "code",
   "execution_count": 15,
   "id": "8b83af66",
   "metadata": {},
   "outputs": [
    {
     "data": {
      "image/png": "[encoded data removed]",
      "text/plain": [
       "<Figure size 640x480 with 1 Axes>"
      ]
     },
     "metadata": {},
     "output_type": "display_data"
    }
   ],
   "source": [
    "plot_bar('rest_ecg')"
   ]
  },
  {
   "cell_type": "code",
   "execution_count": 16,
   "id": "3bb42807",
   "metadata": {},
   "outputs": [
    {
     "data": {
      "image/png": "[encoded data removed]",
      "text/plain": [
       "<Figure size 640x480 with 1 Axes>"
      ]
     },
     "metadata": {},
     "output_type": "display_data"
    }
   ],
   "source": [
    "plot_bar('chest_pain')"
   ]
  },
  {
   "cell_type": "code",
   "execution_count": 17,
   "id": "2cc433b1",
   "metadata": {},
   "outputs": [
    {
     "data": {
      "image/png": "[encoded data removed]",
      "text/plain": [
       "<Figure size 640x480 with 1 Axes>"
      ]
     },
     "metadata": {},
     "output_type": "display_data"
    }
   ],
   "source": [
    "plot_bar(\"gender\")"
   ]
  },
  {
   "cell_type": "code",
   "execution_count": 18,
   "id": "f1e775fd",
   "metadata": {},
   "outputs": [
    {
     "data": {
      "image/png": "[encoded data removed]",
      "text/plain": [
       "<Figure size 640x480 with 1 Axes>"
      ]
     },
     "metadata": {},
     "output_type": "display_data"
    }
   ],
   "source": [
    "plot_bar('slope')"
   ]
  },
  {
   "cell_type": "markdown",
   "id": "1d4f2d98",
   "metadata": {},
   "source": [
    "* Lower chest pain indicates lower chances of heart disease\n",
    "* Greater Rest_ecg indicates lower chances of heart disease\n",
    "* "
   ]
  },
  {
   "cell_type": "code",
   "execution_count": 19,
   "id": "16ba3948",
   "metadata": {},
   "outputs": [
    {
     "data": {
      "image/png": "[encoded data removed]",
      "text/plain": [
       "<Figure size 1800x1800 with 16 Axes>"
      ]
     },
     "metadata": {},
     "output_type": "display_data"
    }
   ],
   "source": [
    "fig = hd_df.hist(figsize = (18,18))\n"
   ]
  },
  {
   "cell_type": "markdown",
   "id": "9ff0ce71",
   "metadata": {},
   "source": [
    "<a id='Outlier_Handling'></a>\n",
    "## Outlier Handling\n"
   ]
  },
  {
   "cell_type": "code",
   "execution_count": 20,
   "id": "30f330c1",
   "metadata": {},
   "outputs": [
    {
     "data": {
      "text/plain": [
       "Index(['age', 'gender', 'chest_pain', 'rest_bps', 'cholestrol',\n",
       "       'fasting_blood_sugar', 'rest_ecg', 'thalach', 'exer_angina', 'old_peak',\n",
       "       'slope', 'ca', 'thalassemia', 'target'],\n",
       "      dtype='object')"
      ]
     },
     "execution_count": 20,
     "metadata": {},
     "output_type": "execute_result"
    }
   ],
   "source": [
    "hd_df.columns"
   ]
  },
  {
   "cell_type": "code",
   "execution_count": 21,
   "id": "45d2ae9c",
   "metadata": {},
   "outputs": [],
   "source": [
    "hd_df = hd_df.drop(hd_df[hd_df['cholestrol'] >= 500].index)"
   ]
  },
  {
   "cell_type": "code",
   "execution_count": 22,
   "id": "b3a87672",
   "metadata": {},
   "outputs": [],
   "source": [
    "hd_df = hd_df.drop(hd_df[hd_df['old_peak'] >5].index)"
   ]
  },
  {
   "cell_type": "code",
   "execution_count": 23,
   "id": "ec8c96f6",
   "metadata": {},
   "outputs": [
    {
     "data": {
      "text/plain": [
       "(300, 14)"
      ]
     },
     "execution_count": 23,
     "metadata": {},
     "output_type": "execute_result"
    }
   ],
   "source": [
    "hd_df.shape"
   ]
  },
  {
   "cell_type": "code",
   "execution_count": 24,
   "id": "da98c5bf",
   "metadata": {},
   "outputs": [],
   "source": [
    "hd_df.drop_duplicates(inplace=True)"
   ]
  },
  {
   "cell_type": "code",
   "execution_count": 25,
   "id": "5fabbedd",
   "metadata": {},
   "outputs": [
    {
     "data": {
      "text/plain": [
       "(299, 14)"
      ]
     },
     "execution_count": 25,
     "metadata": {},
     "output_type": "execute_result"
    }
   ],
   "source": [
    "hd_df.shape"
   ]
  },
  {
   "cell_type": "markdown",
   "id": "15bbd029",
   "metadata": {},
   "source": [
    "<a id='Correlation'></a>\n",
    "## 3.6 Correlation\n"
   ]
  },
  {
   "cell_type": "code",
   "execution_count": 26,
   "id": "5243ad23",
   "metadata": {
    "id": "YmnDpkTuW85v",
    "outputId": "220d6af2-be4a-4f97-ecff-c6da49b15bd9"
   },
   "outputs": [
    {
     "data": {
      "text/html": [
       "<div>\n",
       "<style scoped>\n",
       "    .dataframe tbody tr th:only-of-type {\n",
       "        vertical-align: middle;\n",
       "    }\n",
       "\n",
       "    .dataframe tbody tr th {\n",
       "        vertical-align: top;\n",
       "    }\n",
       "\n",
       "    .dataframe thead th {\n",
       "        text-align: right;\n",
       "    }\n",
       "</style>\n",
       "<table border=\"1\" class=\"dataframe\">\n",
       "  <thead>\n",
       "    <tr style=\"text-align: right;\">\n",
       "      <th></th>\n",
       "      <th>age</th>\n",
       "      <th>gender</th>\n",
       "      <th>chest_pain</th>\n",
       "      <th>rest_bps</th>\n",
       "      <th>cholestrol</th>\n",
       "      <th>fasting_blood_sugar</th>\n",
       "      <th>rest_ecg</th>\n",
       "      <th>thalach</th>\n",
       "      <th>exer_angina</th>\n",
       "      <th>old_peak</th>\n",
       "      <th>slope</th>\n",
       "      <th>ca</th>\n",
       "      <th>thalassemia</th>\n",
       "      <th>target</th>\n",
       "    </tr>\n",
       "  </thead>\n",
       "  <tbody>\n",
       "    <tr>\n",
       "      <th>age</th>\n",
       "      <td>1.000000</td>\n",
       "      <td>-0.085276</td>\n",
       "      <td>-0.065515</td>\n",
       "      <td>0.285895</td>\n",
       "      <td>0.197969</td>\n",
       "      <td>0.123359</td>\n",
       "      <td>-0.105303</td>\n",
       "      <td>-0.400209</td>\n",
       "      <td>0.099004</td>\n",
       "      <td>0.203677</td>\n",
       "      <td>-0.157759</td>\n",
       "      <td>0.303835</td>\n",
       "      <td>0.057332</td>\n",
       "      <td>-0.224603</td>\n",
       "    </tr>\n",
       "    <tr>\n",
       "      <th>gender</th>\n",
       "      <td>-0.085276</td>\n",
       "      <td>1.000000</td>\n",
       "      <td>-0.049927</td>\n",
       "      <td>-0.056232</td>\n",
       "      <td>-0.186517</td>\n",
       "      <td>0.043258</td>\n",
       "      <td>-0.073062</td>\n",
       "      <td>-0.041965</td>\n",
       "      <td>0.135196</td>\n",
       "      <td>0.121905</td>\n",
       "      <td>-0.043253</td>\n",
       "      <td>0.124498</td>\n",
       "      <td>0.223036</td>\n",
       "      <td>-0.285800</td>\n",
       "    </tr>\n",
       "    <tr>\n",
       "      <th>chest_pain</th>\n",
       "      <td>-0.065515</td>\n",
       "      <td>-0.049927</td>\n",
       "      <td>1.000000</td>\n",
       "      <td>0.056762</td>\n",
       "      <td>-0.107810</td>\n",
       "      <td>0.095329</td>\n",
       "      <td>0.044994</td>\n",
       "      <td>0.288795</td>\n",
       "      <td>-0.392098</td>\n",
       "      <td>-0.130807</td>\n",
       "      <td>0.107313</td>\n",
       "      <td>-0.190982</td>\n",
       "      <td>-0.158858</td>\n",
       "      <td>0.426488</td>\n",
       "    </tr>\n",
       "    <tr>\n",
       "      <th>rest_bps</th>\n",
       "      <td>0.285895</td>\n",
       "      <td>-0.056232</td>\n",
       "      <td>0.056762</td>\n",
       "      <td>1.000000</td>\n",
       "      <td>0.166531</td>\n",
       "      <td>0.181023</td>\n",
       "      <td>-0.115811</td>\n",
       "      <td>-0.043319</td>\n",
       "      <td>0.068580</td>\n",
       "      <td>0.177796</td>\n",
       "      <td>-0.111755</td>\n",
       "      <td>0.087395</td>\n",
       "      <td>0.059298</td>\n",
       "      <td>-0.137389</td>\n",
       "    </tr>\n",
       "    <tr>\n",
       "      <th>cholestrol</th>\n",
       "      <td>0.197969</td>\n",
       "      <td>-0.186517</td>\n",
       "      <td>-0.107810</td>\n",
       "      <td>0.166531</td>\n",
       "      <td>1.000000</td>\n",
       "      <td>0.018286</td>\n",
       "      <td>-0.141224</td>\n",
       "      <td>-0.020286</td>\n",
       "      <td>0.083544</td>\n",
       "      <td>0.081134</td>\n",
       "      <td>-0.002754</td>\n",
       "      <td>0.121696</td>\n",
       "      <td>0.088619</td>\n",
       "      <td>-0.116591</td>\n",
       "    </tr>\n",
       "    <tr>\n",
       "      <th>fasting_blood_sugar</th>\n",
       "      <td>0.123359</td>\n",
       "      <td>0.043258</td>\n",
       "      <td>0.095329</td>\n",
       "      <td>0.181023</td>\n",
       "      <td>0.018286</td>\n",
       "      <td>1.000000</td>\n",
       "      <td>-0.085099</td>\n",
       "      <td>-0.009227</td>\n",
       "      <td>0.024925</td>\n",
       "      <td>0.018025</td>\n",
       "      <td>-0.067187</td>\n",
       "      <td>0.147758</td>\n",
       "      <td>-0.028253</td>\n",
       "      <td>-0.028773</td>\n",
       "    </tr>\n",
       "    <tr>\n",
       "      <th>rest_ecg</th>\n",
       "      <td>-0.105303</td>\n",
       "      <td>-0.073062</td>\n",
       "      <td>0.044994</td>\n",
       "      <td>-0.115811</td>\n",
       "      <td>-0.141224</td>\n",
       "      <td>-0.085099</td>\n",
       "      <td>1.000000</td>\n",
       "      <td>0.047546</td>\n",
       "      <td>-0.078478</td>\n",
       "      <td>-0.055122</td>\n",
       "      <td>0.089466</td>\n",
       "      <td>-0.076954</td>\n",
       "      <td>-0.006410</td>\n",
       "      <td>0.138932</td>\n",
       "    </tr>\n",
       "    <tr>\n",
       "      <th>thalach</th>\n",
       "      <td>-0.400209</td>\n",
       "      <td>-0.041965</td>\n",
       "      <td>0.288795</td>\n",
       "      <td>-0.043319</td>\n",
       "      <td>-0.020286</td>\n",
       "      <td>-0.009227</td>\n",
       "      <td>0.047546</td>\n",
       "      <td>1.000000</td>\n",
       "      <td>-0.372599</td>\n",
       "      <td>-0.340293</td>\n",
       "      <td>0.380257</td>\n",
       "      <td>-0.233295</td>\n",
       "      <td>-0.090587</td>\n",
       "      <td>0.416096</td>\n",
       "    </tr>\n",
       "    <tr>\n",
       "      <th>exer_angina</th>\n",
       "      <td>0.099004</td>\n",
       "      <td>0.135196</td>\n",
       "      <td>-0.392098</td>\n",
       "      <td>0.068580</td>\n",
       "      <td>0.083544</td>\n",
       "      <td>0.024925</td>\n",
       "      <td>-0.078478</td>\n",
       "      <td>-0.372599</td>\n",
       "      <td>1.000000</td>\n",
       "      <td>0.299183</td>\n",
       "      <td>-0.258019</td>\n",
       "      <td>0.134412</td>\n",
       "      <td>0.208045</td>\n",
       "      <td>-0.435335</td>\n",
       "    </tr>\n",
       "    <tr>\n",
       "      <th>old_peak</th>\n",
       "      <td>0.203677</td>\n",
       "      <td>0.121905</td>\n",
       "      <td>-0.130807</td>\n",
       "      <td>0.177796</td>\n",
       "      <td>0.081134</td>\n",
       "      <td>0.018025</td>\n",
       "      <td>-0.055122</td>\n",
       "      <td>-0.340293</td>\n",
       "      <td>0.299183</td>\n",
       "      <td>1.000000</td>\n",
       "      <td>-0.555057</td>\n",
       "      <td>0.229719</td>\n",
       "      <td>0.188529</td>\n",
       "      <td>-0.428533</td>\n",
       "    </tr>\n",
       "    <tr>\n",
       "      <th>slope</th>\n",
       "      <td>-0.157759</td>\n",
       "      <td>-0.043253</td>\n",
       "      <td>0.107313</td>\n",
       "      <td>-0.111755</td>\n",
       "      <td>-0.002754</td>\n",
       "      <td>-0.067187</td>\n",
       "      <td>0.089466</td>\n",
       "      <td>0.380257</td>\n",
       "      <td>-0.258019</td>\n",
       "      <td>-0.555057</td>\n",
       "      <td>1.000000</td>\n",
       "      <td>-0.084401</td>\n",
       "      <td>-0.085968</td>\n",
       "      <td>0.337304</td>\n",
       "    </tr>\n",
       "    <tr>\n",
       "      <th>ca</th>\n",
       "      <td>0.303835</td>\n",
       "      <td>0.124498</td>\n",
       "      <td>-0.190982</td>\n",
       "      <td>0.087395</td>\n",
       "      <td>0.121696</td>\n",
       "      <td>0.147758</td>\n",
       "      <td>-0.076954</td>\n",
       "      <td>-0.233295</td>\n",
       "      <td>0.134412</td>\n",
       "      <td>0.229719</td>\n",
       "      <td>-0.084401</td>\n",
       "      <td>1.000000</td>\n",
       "      <td>0.159576</td>\n",
       "      <td>-0.407544</td>\n",
       "    </tr>\n",
       "    <tr>\n",
       "      <th>thalassemia</th>\n",
       "      <td>0.057332</td>\n",
       "      <td>0.223036</td>\n",
       "      <td>-0.158858</td>\n",
       "      <td>0.059298</td>\n",
       "      <td>0.088619</td>\n",
       "      <td>-0.028253</td>\n",
       "      <td>-0.006410</td>\n",
       "      <td>-0.090587</td>\n",
       "      <td>0.208045</td>\n",
       "      <td>0.188529</td>\n",
       "      <td>-0.085968</td>\n",
       "      <td>0.159576</td>\n",
       "      <td>1.000000</td>\n",
       "      <td>-0.342352</td>\n",
       "    </tr>\n",
       "    <tr>\n",
       "      <th>target</th>\n",
       "      <td>-0.224603</td>\n",
       "      <td>-0.285800</td>\n",
       "      <td>0.426488</td>\n",
       "      <td>-0.137389</td>\n",
       "      <td>-0.116591</td>\n",
       "      <td>-0.028773</td>\n",
       "      <td>0.138932</td>\n",
       "      <td>0.416096</td>\n",
       "      <td>-0.435335</td>\n",
       "      <td>-0.428533</td>\n",
       "      <td>0.337304</td>\n",
       "      <td>-0.407544</td>\n",
       "      <td>-0.342352</td>\n",
       "      <td>1.000000</td>\n",
       "    </tr>\n",
       "  </tbody>\n",
       "</table>\n",
       "</div>"
      ],
      "text/plain": [
       "                          age    gender  chest_pain  rest_bps  cholestrol  \\\n",
       "age                  1.000000 -0.085276   -0.065515  0.285895    0.197969   \n",
       "gender              -0.085276  1.000000   -0.049927 -0.056232   -0.186517   \n",
       "chest_pain          -0.065515 -0.049927    1.000000  0.056762   -0.107810   \n",
       "rest_bps             0.285895 -0.056232    0.056762  1.000000    0.166531   \n",
       "cholestrol           0.197969 -0.186517   -0.107810  0.166531    1.000000   \n",
       "fasting_blood_sugar  0.123359  0.043258    0.095329  0.181023    0.018286   \n",
       "rest_ecg            -0.105303 -0.073062    0.044994 -0.115811   -0.141224   \n",
       "thalach             -0.400209 -0.041965    0.288795 -0.043319   -0.020286   \n",
       "exer_angina          0.099004  0.135196   -0.392098  0.068580    0.083544   \n",
       "old_peak             0.203677  0.121905   -0.130807  0.177796    0.081134   \n",
       "slope               -0.157759 -0.043253    0.107313 -0.111755   -0.002754   \n",
       "ca                   0.303835  0.124498   -0.190982  0.087395    0.121696   \n",
       "thalassemia          0.057332  0.223036   -0.158858  0.059298    0.088619   \n",
       "target              -0.224603 -0.285800    0.426488 -0.137389   -0.116591   \n",
       "\n",
       "                     fasting_blood_sugar  rest_ecg   thalach  exer_angina  \\\n",
       "age                             0.123359 -0.105303 -0.400209     0.099004   \n",
       "gender                          0.043258 -0.073062 -0.041965     0.135196   \n",
       "chest_pain                      0.095329  0.044994  0.288795    -0.392098   \n",
       "rest_bps                        0.181023 -0.115811 -0.043319     0.068580   \n",
       "cholestrol                      0.018286 -0.141224 -0.020286     0.083544   \n",
       "fasting_blood_sugar             1.000000 -0.085099 -0.009227     0.024925   \n",
       "rest_ecg                       -0.085099  1.000000  0.047546    -0.078478   \n",
       "thalach                        -0.009227  0.047546  1.000000    -0.372599   \n",
       "exer_angina                     0.024925 -0.078478 -0.372599     1.000000   \n",
       "old_peak                        0.018025 -0.055122 -0.340293     0.299183   \n",
       "slope                          -0.067187  0.089466  0.380257    -0.258019   \n",
       "ca                              0.147758 -0.076954 -0.233295     0.134412   \n",
       "thalassemia                    -0.028253 -0.006410 -0.090587     0.208045   \n",
       "target                         -0.028773  0.138932  0.416096    -0.435335   \n",
       "\n",
       "                     old_peak     slope        ca  thalassemia    target  \n",
       "age                  0.203677 -0.157759  0.303835     0.057332 -0.224603  \n",
       "gender               0.121905 -0.043253  0.124498     0.223036 -0.285800  \n",
       "chest_pain          -0.130807  0.107313 -0.190982    -0.158858  0.426488  \n",
       "rest_bps             0.177796 -0.111755  0.087395     0.059298 -0.137389  \n",
       "cholestrol           0.081134 -0.002754  0.121696     0.088619 -0.116591  \n",
       "fasting_blood_sugar  0.018025 -0.067187  0.147758    -0.028253 -0.028773  \n",
       "rest_ecg            -0.055122  0.089466 -0.076954    -0.006410  0.138932  \n",
       "thalach             -0.340293  0.380257 -0.233295    -0.090587  0.416096  \n",
       "exer_angina          0.299183 -0.258019  0.134412     0.208045 -0.435335  \n",
       "old_peak             1.000000 -0.555057  0.229719     0.188529 -0.428533  \n",
       "slope               -0.555057  1.000000 -0.084401    -0.085968  0.337304  \n",
       "ca                   0.229719 -0.084401  1.000000     0.159576 -0.407544  \n",
       "thalassemia          0.188529 -0.085968  0.159576     1.000000 -0.342352  \n",
       "target              -0.428533  0.337304 -0.407544    -0.342352  1.000000  "
      ]
     },
     "execution_count": 26,
     "metadata": {},
     "output_type": "execute_result"
    }
   ],
   "source": [
    "# check correlation\n",
    "hd_df_num = hd_df.copy()\n",
    "corr = hd_df_num.corr()\n",
    "corr\n",
    "\n",
    "\n"
   ]
  },
  {
   "cell_type": "code",
   "execution_count": 27,
   "id": "457ee0bc",
   "metadata": {
    "id": "TmSeUAV7W85v",
    "outputId": "e0b17f50-61c2-4b1f-c59c-7a7137ca2e7f"
   },
   "outputs": [
    {
     "data": {
      "text/plain": [
       "<Axes: >"
      ]
     },
     "execution_count": 27,
     "metadata": {},
     "output_type": "execute_result"
    },
    {
     "data": {
      "image/png": "[encoded data removed]",
      "text/plain": [
       "<Figure size 1800x1800 with 2 Axes>"
      ]
     },
     "metadata": {},
     "output_type": "display_data"
    }
   ],
   "source": [
    "#correlation map\n",
    "f,ax = plt.subplots(figsize=(18, 18))\n",
    "sns.heatmap(hd_df_num.corr(), annot=True, linewidths=.5, fmt= '.1f',ax=ax)"
   ]
  },
  {
   "cell_type": "code",
   "execution_count": 28,
   "id": "2ebc6f2b",
   "metadata": {},
   "outputs": [
    {
     "data": {
      "text/plain": [
       "(299, 14)"
      ]
     },
     "execution_count": 28,
     "metadata": {},
     "output_type": "execute_result"
    }
   ],
   "source": [
    "hd_df.shape"
   ]
  },
  {
   "cell_type": "code",
   "execution_count": 29,
   "id": "846d2df6",
   "metadata": {},
   "outputs": [],
   "source": [
    "X = hd_df.iloc[:, :-1]\n",
    "Y = hd_df.iloc[:,-1]"
   ]
  },
  {
   "cell_type": "code",
   "execution_count": 30,
   "id": "b7c828ce",
   "metadata": {},
   "outputs": [
    {
     "name": "stdout",
     "output_type": "stream",
     "text": [
      "     age  gender  chest_pain  rest_bps  cholestrol  fasting_blood_sugar  \\\n",
      "0     63       1           3       145         233                    1   \n",
      "1     37       1           2       130         250                    0   \n",
      "2     41       0           1       130         204                    0   \n",
      "3     56       1           1       120         236                    0   \n",
      "4     57       0           0       120         354                    0   \n",
      "..   ...     ...         ...       ...         ...                  ...   \n",
      "298   57       0           0       140         241                    0   \n",
      "299   45       1           3       110         264                    0   \n",
      "300   68       1           0       144         193                    1   \n",
      "301   57       1           0       130         131                    0   \n",
      "302   57       0           1       130         236                    0   \n",
      "\n",
      "     rest_ecg  thalach  exer_angina  old_peak  slope  ca  thalassemia  \n",
      "0           0      150            0       2.3      0   0            1  \n",
      "1           1      187            0       3.5      0   0            2  \n",
      "2           0      172            0       1.4      2   0            2  \n",
      "3           1      178            0       0.8      2   0            2  \n",
      "4           1      163            1       0.6      2   0            2  \n",
      "..        ...      ...          ...       ...    ...  ..          ...  \n",
      "298         1      123            1       0.2      1   0            3  \n",
      "299         1      132            0       1.2      1   0            3  \n",
      "300         1      141            0       3.4      1   2            3  \n",
      "301         1      115            1       1.2      1   1            3  \n",
      "302         0      174            0       0.0      1   1            2  \n",
      "\n",
      "[299 rows x 13 columns]\n"
     ]
    }
   ],
   "source": [
    "print(X)"
   ]
  },
  {
   "cell_type": "code",
   "execution_count": 31,
   "id": "1f2a16e6",
   "metadata": {
    "scrolled": true
   },
   "outputs": [
    {
     "name": "stdout",
     "output_type": "stream",
     "text": [
      "(299, 13)\n",
      "(299,)\n"
     ]
    }
   ],
   "source": [
    "print(X.shape)\n",
    "print(Y.shape)"
   ]
  },
  {
   "cell_type": "code",
   "execution_count": 32,
   "id": "85806025",
   "metadata": {},
   "outputs": [
    {
     "data": {
      "text/html": [
       "<div>\n",
       "<style scoped>\n",
       "    .dataframe tbody tr th:only-of-type {\n",
       "        vertical-align: middle;\n",
       "    }\n",
       "\n",
       "    .dataframe tbody tr th {\n",
       "        vertical-align: top;\n",
       "    }\n",
       "\n",
       "    .dataframe thead th {\n",
       "        text-align: right;\n",
       "    }\n",
       "</style>\n",
       "<table border=\"1\" class=\"dataframe\">\n",
       "  <thead>\n",
       "    <tr style=\"text-align: right;\">\n",
       "      <th></th>\n",
       "      <th>features</th>\n",
       "      <th>VIF Factor</th>\n",
       "    </tr>\n",
       "  </thead>\n",
       "  <tbody>\n",
       "    <tr>\n",
       "      <th>0</th>\n",
       "      <td>age</td>\n",
       "      <td>39.09</td>\n",
       "    </tr>\n",
       "    <tr>\n",
       "      <th>1</th>\n",
       "      <td>gender</td>\n",
       "      <td>3.58</td>\n",
       "    </tr>\n",
       "    <tr>\n",
       "      <th>2</th>\n",
       "      <td>chest_pain</td>\n",
       "      <td>2.42</td>\n",
       "    </tr>\n",
       "    <tr>\n",
       "      <th>3</th>\n",
       "      <td>rest_bps</td>\n",
       "      <td>60.08</td>\n",
       "    </tr>\n",
       "    <tr>\n",
       "      <th>4</th>\n",
       "      <td>cholestrol</td>\n",
       "      <td>29.80</td>\n",
       "    </tr>\n",
       "    <tr>\n",
       "      <th>5</th>\n",
       "      <td>fasting_blood_sugar</td>\n",
       "      <td>1.27</td>\n",
       "    </tr>\n",
       "    <tr>\n",
       "      <th>6</th>\n",
       "      <td>rest_ecg</td>\n",
       "      <td>2.06</td>\n",
       "    </tr>\n",
       "    <tr>\n",
       "      <th>7</th>\n",
       "      <td>thalach</td>\n",
       "      <td>42.73</td>\n",
       "    </tr>\n",
       "    <tr>\n",
       "      <th>8</th>\n",
       "      <td>exer_angina</td>\n",
       "      <td>2.03</td>\n",
       "    </tr>\n",
       "    <tr>\n",
       "      <th>9</th>\n",
       "      <td>old_peak</td>\n",
       "      <td>3.03</td>\n",
       "    </tr>\n",
       "    <tr>\n",
       "      <th>10</th>\n",
       "      <td>slope</td>\n",
       "      <td>10.04</td>\n",
       "    </tr>\n",
       "    <tr>\n",
       "      <th>11</th>\n",
       "      <td>ca</td>\n",
       "      <td>1.87</td>\n",
       "    </tr>\n",
       "    <tr>\n",
       "      <th>12</th>\n",
       "      <td>thalassemia</td>\n",
       "      <td>16.96</td>\n",
       "    </tr>\n",
       "  </tbody>\n",
       "</table>\n",
       "</div>"
      ],
      "text/plain": [
       "               features  VIF Factor\n",
       "0                   age       39.09\n",
       "1                gender        3.58\n",
       "2            chest_pain        2.42\n",
       "3              rest_bps       60.08\n",
       "4            cholestrol       29.80\n",
       "5   fasting_blood_sugar        1.27\n",
       "6              rest_ecg        2.06\n",
       "7               thalach       42.73\n",
       "8           exer_angina        2.03\n",
       "9              old_peak        3.03\n",
       "10                slope       10.04\n",
       "11                   ca        1.87\n",
       "12          thalassemia       16.96"
      ]
     },
     "execution_count": 32,
     "metadata": {},
     "output_type": "execute_result"
    }
   ],
   "source": [
    "from statsmodels.stats.outliers_influence import variance_inflation_factor as vif\n",
    " \n",
    "vif_df = pd.DataFrame()\n",
    "vif_df[\"features\"] = X.columns\n",
    "vif_df[\"VIF Factor\"] = [vif(X.values, i) for i in range(X.shape[1])]\n",
    "vif_df.round(2)"
   ]
  },
  {
   "cell_type": "markdown",
   "id": "3eab31d2",
   "metadata": {},
   "source": [
    "<a id=\"Standardizing_Data\"> </a>\n",
    "## 3.10 Standardizing Data\n"
   ]
  },
  {
   "cell_type": "code",
   "execution_count": 33,
   "id": "952b1952",
   "metadata": {
    "scrolled": true
   },
   "outputs": [],
   "source": [
    "from sklearn.preprocessing import StandardScaler\n",
    "\n",
    "scaler = StandardScaler()\n",
    "\n",
    "scaler.fit(X)\n",
    "X = scaler.transform(X)"
   ]
  },
  {
   "cell_type": "code",
   "execution_count": 34,
   "id": "d3adda77",
   "metadata": {},
   "outputs": [
    {
     "name": "stdout",
     "output_type": "stream",
     "text": [
      "[[ 0.95693712  0.6771533   1.97279939 ... -2.31907529 -0.71591528\n",
      "  -2.13958493]\n",
      " [-1.91979496  0.6771533   1.00262337 ... -2.31907529 -0.71591528\n",
      "  -0.50343175]\n",
      " [-1.4772208  -1.47677048  0.03244736 ...  0.97500315 -0.71591528\n",
      "  -0.50343175]\n",
      " ...\n",
      " [ 1.51015483  0.6771533  -0.93772866 ... -0.67203607  1.28463303\n",
      "   1.13272144]\n",
      " [ 0.29307587  0.6771533  -0.93772866 ... -0.67203607  0.28435887\n",
      "   1.13272144]\n",
      " [ 0.29307587 -1.47677048  0.03244736 ... -0.67203607  0.28435887\n",
      "  -0.50343175]]\n"
     ]
    }
   ],
   "source": [
    "print(X)"
   ]
  },
  {
   "cell_type": "markdown",
   "id": "dc1fa6b0",
   "metadata": {},
   "source": [
    "## Splitting the Data"
   ]
  },
  {
   "cell_type": "code",
   "execution_count": 35,
   "id": "bfa7c3b2",
   "metadata": {},
   "outputs": [],
   "source": [
    "from sklearn.model_selection import train_test_split\n",
    " \n",
    "#Split the data into test and train\n",
    "X_train, X_test, Y_train, Y_test = train_test_split(X, Y, test_size=0.2, \n",
    "                                                    random_state=10)"
   ]
  },
  {
   "cell_type": "code",
   "execution_count": 36,
   "id": "562188fc",
   "metadata": {},
   "outputs": [
    {
     "name": "stdout",
     "output_type": "stream",
     "text": [
      "(239, 13)\n",
      "(60, 13)\n",
      "(239,)\n",
      "(60,)\n"
     ]
    }
   ],
   "source": [
    "print(X_train.shape)\n",
    "print(X_test.shape)\n",
    "print(Y_train.shape)\n",
    "print(Y_test.shape)"
   ]
  },
  {
   "cell_type": "markdown",
   "id": "691fc486",
   "metadata": {},
   "source": [
    "<a id=\"Feature_Selection\"> </a>\n",
    "## Feature Selection"
   ]
  },
  {
   "cell_type": "markdown",
   "id": "72422da0",
   "metadata": {},
   "source": [
    "### Running Decision Tree Base Model"
   ]
  },
  {
   "cell_type": "code",
   "execution_count": 37,
   "id": "6f7580a0",
   "metadata": {},
   "outputs": [
    {
     "name": "stdout",
     "output_type": "stream",
     "text": [
      "[(1, 1), (1, 1), (1, 1), (0, 1), (0, 0), (1, 1), (0, 0), (1, 1), (0, 1), (0, 0), (0, 0), (1, 1), (0, 0), (0, 1), (0, 0), (1, 1), (1, 1), (0, 0), (1, 1), (0, 1), (1, 0), (0, 0), (0, 0), (1, 1), (1, 0), (1, 1), (0, 0), (0, 1), (1, 0), (1, 1), (1, 1), (0, 1), (1, 1), (0, 0), (0, 0), (1, 0), (0, 1), (0, 0), (1, 0), (0, 1), (1, 1), (1, 1), (1, 1), (0, 0), (0, 0), (0, 1), (1, 0), (1, 1), (1, 1), (1, 1), (1, 0), (0, 1), (0, 0), (0, 0), (0, 0), (0, 1), (0, 1), (1, 1), (1, 1), (1, 1)]\n"
     ]
    }
   ],
   "source": [
    "# predicting using decision tree classifier\n",
    "from sklearn.tree import DecisionTreeClassifier\n",
    "\n",
    "model_DT=DecisionTreeClassifier(random_state=10,criterion=\"gini\")\n",
    "\n",
    "# min_samples_leaf, min_samples_split, max_depth, max_features, max_leaf_nodes[pruning]\n",
    "\n",
    "# fit the model on the data and predict the values\n",
    "model_DT.fit(X_train,Y_train)\n",
    "Y_pred=model_DT.predict(X_test)\n",
    "#print(Y_pred)\n",
    "print(list(zip(Y_test,Y_pred)))"
   ]
  },
  {
   "cell_type": "code",
   "execution_count": 38,
   "id": "bb1fbbb6",
   "metadata": {},
   "outputs": [
    {
     "name": "stdout",
     "output_type": "stream",
     "text": [
      "[[18 12]\n",
      " [ 7 23]]\n",
      "Classification report: \n",
      "              precision    recall  f1-score   support\n",
      "\n",
      "           0       0.72      0.60      0.65        30\n",
      "           1       0.66      0.77      0.71        30\n",
      "\n",
      "    accuracy                           0.68        60\n",
      "   macro avg       0.69      0.68      0.68        60\n",
      "weighted avg       0.69      0.68      0.68        60\n",
      "\n",
      "Accuracy of the model:  0.6833333333333333\n"
     ]
    }
   ],
   "source": [
    "from sklearn.metrics import confusion_matrix, accuracy_score, classification_report\n",
    "\n",
    "cfm=confusion_matrix(Y_test,Y_pred)\n",
    "print(cfm)\n",
    " \n",
    "print(\"Classification report: \")\n",
    " \n",
    "print(classification_report(Y_test,Y_pred))\n",
    " \n",
    "acc=accuracy_score(Y_test, Y_pred)\n",
    "print(\"Accuracy of the model: \",acc)"
   ]
  },
  {
   "cell_type": "code",
   "execution_count": 39,
   "id": "8bb27f24",
   "metadata": {},
   "outputs": [
    {
     "data": {
      "text/plain": [
       "1.0"
      ]
     },
     "execution_count": 39,
     "metadata": {},
     "output_type": "execute_result"
    }
   ],
   "source": [
    "model_DT.score(X_train, Y_train)\n",
    "# since the training accuracy and the testing accuracy are similar to each other and do not show a\n",
    "# huge differance we can conclude that the decision tree is not overfitted."
   ]
  },
  {
   "cell_type": "code",
   "execution_count": 40,
   "id": "de0f7a0f",
   "metadata": {},
   "outputs": [
    {
     "data": {
      "text/plain": [
       "array([0.02034331, 0.00635728, 0.06728941, 0.06120885, 0.08927164,\n",
       "       0.01130184, 0.01420803, 0.05394705, 0.02421823, 0.14750328,\n",
       "       0.08896835, 0.12473595, 0.29064677])"
      ]
     },
     "execution_count": 40,
     "metadata": {},
     "output_type": "execute_result"
    }
   ],
   "source": [
    "model_DT.feature_importances_\n",
    "# importane percent divide karta hai jitna time 1 variable ko use kiya hai to split the data.\n",
    "# if the value is high means that variables has been used many times and vice versa."
   ]
  },
  {
   "cell_type": "code",
   "execution_count": 41,
   "id": "900fed6f",
   "metadata": {},
   "outputs": [
    {
     "name": "stdout",
     "output_type": "stream",
     "text": [
      "[('age', 0.02034331110795858), ('gender', 0.006357284721237056), ('chest_pain', 0.06728941366478608), ('rest_bps', 0.06120885324185432), ('cholestrol', 0.08927163708954333), ('fasting_blood_sugar', 0.011301839504421434), ('rest_ecg', 0.014208026805558382), ('thalach', 0.05394704964562192), ('exer_angina', 0.0242182275094745), ('old_peak', 0.14750328449063432), ('slope', 0.08896834967022227), ('ca', 0.12473594896107162), ('thalassemia', 0.2906467735876163)]\n"
     ]
    }
   ],
   "source": [
    "print((list(zip(hd_df.columns[0:-1],\n",
    "               model_DT.feature_importances_))))\n",
    "# summation of all importances will be equal to 1.\n",
    "# those variables which show 0 or clse to 0 can be eliminated as part of feature selection process."
   ]
  },
  {
   "cell_type": "code",
   "execution_count": 42,
   "id": "266cbdc5",
   "metadata": {},
   "outputs": [
    {
     "data": {
      "text/html": [
       "<div>\n",
       "<style scoped>\n",
       "    .dataframe tbody tr th:only-of-type {\n",
       "        vertical-align: middle;\n",
       "    }\n",
       "\n",
       "    .dataframe tbody tr th {\n",
       "        vertical-align: top;\n",
       "    }\n",
       "\n",
       "    .dataframe thead th {\n",
       "        text-align: right;\n",
       "    }\n",
       "</style>\n",
       "<table border=\"1\" class=\"dataframe\">\n",
       "  <thead>\n",
       "    <tr style=\"text-align: right;\">\n",
       "      <th></th>\n",
       "      <th>Column</th>\n",
       "      <th>Imp value</th>\n",
       "    </tr>\n",
       "  </thead>\n",
       "  <tbody>\n",
       "    <tr>\n",
       "      <th>12</th>\n",
       "      <td>thalassemia</td>\n",
       "      <td>0.290647</td>\n",
       "    </tr>\n",
       "    <tr>\n",
       "      <th>9</th>\n",
       "      <td>old_peak</td>\n",
       "      <td>0.147503</td>\n",
       "    </tr>\n",
       "    <tr>\n",
       "      <th>11</th>\n",
       "      <td>ca</td>\n",
       "      <td>0.124736</td>\n",
       "    </tr>\n",
       "    <tr>\n",
       "      <th>4</th>\n",
       "      <td>cholestrol</td>\n",
       "      <td>0.089272</td>\n",
       "    </tr>\n",
       "    <tr>\n",
       "      <th>10</th>\n",
       "      <td>slope</td>\n",
       "      <td>0.088968</td>\n",
       "    </tr>\n",
       "    <tr>\n",
       "      <th>2</th>\n",
       "      <td>chest_pain</td>\n",
       "      <td>0.067289</td>\n",
       "    </tr>\n",
       "    <tr>\n",
       "      <th>3</th>\n",
       "      <td>rest_bps</td>\n",
       "      <td>0.061209</td>\n",
       "    </tr>\n",
       "    <tr>\n",
       "      <th>7</th>\n",
       "      <td>thalach</td>\n",
       "      <td>0.053947</td>\n",
       "    </tr>\n",
       "    <tr>\n",
       "      <th>8</th>\n",
       "      <td>exer_angina</td>\n",
       "      <td>0.024218</td>\n",
       "    </tr>\n",
       "    <tr>\n",
       "      <th>0</th>\n",
       "      <td>age</td>\n",
       "      <td>0.020343</td>\n",
       "    </tr>\n",
       "    <tr>\n",
       "      <th>6</th>\n",
       "      <td>rest_ecg</td>\n",
       "      <td>0.014208</td>\n",
       "    </tr>\n",
       "    <tr>\n",
       "      <th>5</th>\n",
       "      <td>fasting_blood_sugar</td>\n",
       "      <td>0.011302</td>\n",
       "    </tr>\n",
       "    <tr>\n",
       "      <th>1</th>\n",
       "      <td>gender</td>\n",
       "      <td>0.006357</td>\n",
       "    </tr>\n",
       "  </tbody>\n",
       "</table>\n",
       "</div>"
      ],
      "text/plain": [
       "                 Column  Imp value\n",
       "12          thalassemia   0.290647\n",
       "9              old_peak   0.147503\n",
       "11                   ca   0.124736\n",
       "4            cholestrol   0.089272\n",
       "10                slope   0.088968\n",
       "2            chest_pain   0.067289\n",
       "3              rest_bps   0.061209\n",
       "7               thalach   0.053947\n",
       "8           exer_angina   0.024218\n",
       "0                   age   0.020343\n",
       "6              rest_ecg   0.014208\n",
       "5   fasting_blood_sugar   0.011302\n",
       "1                gender   0.006357"
      ]
     },
     "execution_count": 42,
     "metadata": {},
     "output_type": "execute_result"
    }
   ],
   "source": [
    "sample=pd.DataFrame()\n",
    " \n",
    "sample[\"Column\"]=hd_df.columns[0:-1]\n",
    "sample[\"Imp value\"]=model_DT.feature_importances_\n",
    " \n",
    "sample.sort_values(\"Imp value\",ascending=False)\n"
   ]
  },
  {
   "cell_type": "code",
   "execution_count": 43,
   "id": "f4333c8f",
   "metadata": {
    "scrolled": true
   },
   "outputs": [
    {
     "data": {
      "text/plain": [
       "(299, 13)"
      ]
     },
     "execution_count": 43,
     "metadata": {},
     "output_type": "execute_result"
    }
   ],
   "source": [
    "hd_df.drop([\"gender\"],axis=1,inplace=True)\n",
    "hd_df.shape"
   ]
  },
  {
   "cell_type": "code",
   "execution_count": 44,
   "id": "73fc59d8",
   "metadata": {},
   "outputs": [],
   "source": [
    "X = hd_df.values[:,0:-1]\n",
    "Y = hd_df.values[:,-1]"
   ]
  },
  {
   "cell_type": "code",
   "execution_count": 45,
   "id": "5cfbdfc7",
   "metadata": {},
   "outputs": [
    {
     "data": {
      "text/plain": [
       "(299, 12)"
      ]
     },
     "execution_count": 45,
     "metadata": {},
     "output_type": "execute_result"
    }
   ],
   "source": [
    "X.shape\n",
    "#Y.shape"
   ]
  },
  {
   "cell_type": "code",
   "execution_count": 46,
   "id": "dec9e103",
   "metadata": {
    "scrolled": true
   },
   "outputs": [],
   "source": [
    "from sklearn.preprocessing import StandardScaler\n",
    "\n",
    "scaler = StandardScaler()\n",
    "\n",
    "scaler.fit(X)\n",
    "X = scaler.transform(X)"
   ]
  },
  {
   "cell_type": "code",
   "execution_count": 47,
   "id": "274d7f8f",
   "metadata": {},
   "outputs": [
    {
     "name": "stdout",
     "output_type": "stream",
     "text": [
      "[[ 0.95693712  1.97279939  0.76888622 ... -2.31907529 -0.71591528\n",
      "  -2.13958493]\n",
      " [-1.91979496  1.00262337 -0.0876599  ... -2.31907529 -0.71591528\n",
      "  -0.50343175]\n",
      " [-1.4772208   0.03244736 -0.0876599  ...  0.97500315 -0.71591528\n",
      "  -0.50343175]\n",
      " ...\n",
      " [ 1.51015483 -0.93772866  0.71178315 ... -0.67203607  1.28463303\n",
      "   1.13272144]\n",
      " [ 0.29307587 -0.93772866 -0.0876599  ... -0.67203607  0.28435887\n",
      "   1.13272144]\n",
      " [ 0.29307587  0.03244736 -0.0876599  ... -0.67203607  0.28435887\n",
      "  -0.50343175]]\n"
     ]
    }
   ],
   "source": [
    "print(X)"
   ]
  },
  {
   "cell_type": "code",
   "execution_count": 48,
   "id": "75bc5472",
   "metadata": {},
   "outputs": [],
   "source": [
    "from sklearn.model_selection import train_test_split\n",
    " \n",
    "#Split the data into test and train\n",
    "X_train, X_test, Y_train, Y_test = train_test_split(X, Y, test_size=0.2, \n",
    "                                                    random_state=10)"
   ]
  },
  {
   "cell_type": "code",
   "execution_count": 49,
   "id": "b3e7cf8b",
   "metadata": {},
   "outputs": [
    {
     "name": "stdout",
     "output_type": "stream",
     "text": [
      "(239, 12)\n",
      "(239,)\n",
      "(60, 12)\n",
      "(60,)\n"
     ]
    }
   ],
   "source": [
    "print(X_train.shape)\n",
    "print(Y_train.shape)\n",
    "print(X_test.shape)\n",
    "print(Y_test.shape)"
   ]
  },
  {
   "cell_type": "markdown",
   "id": "21e33ba7",
   "metadata": {},
   "source": [
    "<a id=\"Model_Building\"> </a>\n",
    "## 4 Model Building\n"
   ]
  },
  {
   "cell_type": "markdown",
   "id": "3457a8c6",
   "metadata": {},
   "source": [
    "<a id=\"Decision_tree\"> </a>\n",
    "## 4.1 Decision Tree\n",
    "\n"
   ]
  },
  {
   "cell_type": "code",
   "execution_count": 50,
   "id": "a6dc1fce",
   "metadata": {},
   "outputs": [
    {
     "name": "stdout",
     "output_type": "stream",
     "text": [
      "[(1.0, 1.0), (1.0, 1.0), (1.0, 1.0), (0.0, 1.0), (0.0, 0.0), (1.0, 1.0), (0.0, 0.0), (1.0, 1.0), (0.0, 1.0), (0.0, 0.0), (0.0, 0.0), (1.0, 1.0), (0.0, 0.0), (0.0, 1.0), (0.0, 0.0), (1.0, 1.0), (1.0, 1.0), (0.0, 0.0), (1.0, 1.0), (0.0, 1.0), (1.0, 0.0), (0.0, 0.0), (0.0, 0.0), (1.0, 1.0), (1.0, 0.0), (1.0, 1.0), (0.0, 1.0), (0.0, 1.0), (1.0, 0.0), (1.0, 1.0), (1.0, 1.0), (0.0, 1.0), (1.0, 1.0), (0.0, 0.0), (0.0, 0.0), (1.0, 0.0), (0.0, 1.0), (0.0, 0.0), (1.0, 0.0), (0.0, 1.0), (1.0, 1.0), (1.0, 1.0), (1.0, 1.0), (0.0, 0.0), (0.0, 0.0), (0.0, 1.0), (1.0, 0.0), (1.0, 1.0), (1.0, 1.0), (1.0, 1.0), (1.0, 0.0), (0.0, 0.0), (0.0, 0.0), (0.0, 0.0), (0.0, 0.0), (0.0, 1.0), (0.0, 1.0), (1.0, 1.0), (1.0, 1.0), (1.0, 1.0)]\n"
     ]
    }
   ],
   "source": [
    "# predicting using decision tree classifier\n",
    "from sklearn.tree import DecisionTreeClassifier\n",
    "\n",
    "model_DT=DecisionTreeClassifier(random_state=10,criterion=\"gini\")\n",
    "\n",
    "# min_samples_leaf, min_samples_split, max_depth, max_features, max_leaf_nodes[pruning]\n",
    "\n",
    "# fit the model on the data and predict the values\n",
    "model_DT.fit(X_train,Y_train)\n",
    "Y_pred=model_DT.predict(X_test)\n",
    "#print(Y_pred)\n",
    "print(list(zip(Y_test,Y_pred)))"
   ]
  },
  {
   "cell_type": "code",
   "execution_count": 51,
   "id": "bce04af3",
   "metadata": {},
   "outputs": [
    {
     "name": "stdout",
     "output_type": "stream",
     "text": [
      "[[18 12]\n",
      " [ 7 23]]\n",
      "Classification report: \n",
      "              precision    recall  f1-score   support\n",
      "\n",
      "         0.0       0.72      0.60      0.65        30\n",
      "         1.0       0.66      0.77      0.71        30\n",
      "\n",
      "    accuracy                           0.68        60\n",
      "   macro avg       0.69      0.68      0.68        60\n",
      "weighted avg       0.69      0.68      0.68        60\n",
      "\n",
      "Accuracy of the model:  0.6833333333333333\n"
     ]
    }
   ],
   "source": [
    "from sklearn.metrics import confusion_matrix, accuracy_score, classification_report\n",
    "\n",
    "cfm=confusion_matrix(Y_test,Y_pred)\n",
    "print(cfm)\n",
    " \n",
    "print(\"Classification report: \")\n",
    " \n",
    "print(classification_report(Y_test,Y_pred))\n",
    " \n",
    "acc=accuracy_score(Y_test, Y_pred)\n",
    "print(\"Accuracy of the model: \",acc)"
   ]
  },
  {
   "cell_type": "code",
   "execution_count": 52,
   "id": "07109893",
   "metadata": {},
   "outputs": [
    {
     "name": "stderr",
     "output_type": "stream",
     "text": [
      "C:\\Users\\HELLO\\AppData\\Local\\Temp\\ipykernel_9796\\2029510594.py:22: FutureWarning: The frame.append method is deprecated and will be removed from pandas in a future version. Use pandas.concat instead.\n",
      "  result_tabulation = result_tabulation.append(Decision_tree , ignore_index = True)\n"
     ]
    },
    {
     "data": {
      "text/html": [
       "<div>\n",
       "<style scoped>\n",
       "    .dataframe tbody tr th:only-of-type {\n",
       "        vertical-align: middle;\n",
       "    }\n",
       "\n",
       "    .dataframe tbody tr th {\n",
       "        vertical-align: top;\n",
       "    }\n",
       "\n",
       "    .dataframe thead th {\n",
       "        text-align: right;\n",
       "    }\n",
       "</style>\n",
       "<table border=\"1\" class=\"dataframe\">\n",
       "  <thead>\n",
       "    <tr style=\"text-align: right;\">\n",
       "      <th></th>\n",
       "      <th>Model</th>\n",
       "      <th>Precision Score</th>\n",
       "      <th>Recall Score</th>\n",
       "      <th>Accuracy Score</th>\n",
       "      <th>f1-score</th>\n",
       "      <th>AUC Score</th>\n",
       "    </tr>\n",
       "  </thead>\n",
       "  <tbody>\n",
       "    <tr>\n",
       "      <th>0</th>\n",
       "      <td>Decision Tree</td>\n",
       "      <td>0.657143</td>\n",
       "      <td>0.766667</td>\n",
       "      <td>0.683333</td>\n",
       "      <td>0.707692</td>\n",
       "      <td>0.683333</td>\n",
       "    </tr>\n",
       "  </tbody>\n",
       "</table>\n",
       "</div>"
      ],
      "text/plain": [
       "           Model  Precision Score  Recall Score  Accuracy Score  f1-score  \\\n",
       "0  Decision Tree         0.657143      0.766667        0.683333  0.707692   \n",
       "\n",
       "   AUC Score  \n",
       "0   0.683333  "
      ]
     },
     "execution_count": 52,
     "metadata": {},
     "output_type": "execute_result"
    }
   ],
   "source": [
    "from sklearn import metrics\n",
    "# create the result table for all accuracy scores\n",
    "# Accuracy measures considered for model comparision are 'Model', 'AUC Score', 'Precision Score', 'Recall Score','Accuracy Score','Kappa Score', 'f1 - score'\n",
    "\n",
    "# create a list of column names\n",
    "cols = ['Model', 'Precision Score', 'Recall Score','Accuracy Score','f1-score']\n",
    "\n",
    "# creating an empty dataframe of the colums\n",
    "result_tabulation = pd.DataFrame(columns = cols)\n",
    "\n",
    "# compiling the required information\n",
    "Decision_tree = pd.Series({'Model': \"Decision Tree\",\n",
    "                     'AUC Score' : metrics.roc_auc_score(Y_test, Y_pred),\n",
    "                 'Precision Score': metrics.precision_score(Y_test, Y_pred),\n",
    "                 'Recall Score': metrics.recall_score(Y_test, Y_pred),\n",
    "                 'Accuracy Score': metrics.accuracy_score(Y_test, Y_pred),\n",
    "                  'f1-score':metrics.f1_score(Y_test, Y_pred)})\n",
    "\n",
    "\n",
    "\n",
    "# appending our result table\n",
    "result_tabulation = result_tabulation.append(Decision_tree , ignore_index = True)\n",
    "\n",
    "# view the result table\n",
    "result_tabulation"
   ]
  },
  {
   "cell_type": "markdown",
   "id": "627ad77b",
   "metadata": {},
   "source": [
    "<a id='Grid_Search_CV'></a>\n",
    "## 4.2 Tuned Decision Tree"
   ]
  },
  {
   "cell_type": "code",
   "execution_count": 53,
   "id": "bbd6310f",
   "metadata": {},
   "outputs": [],
   "source": [
    "from sklearn.tree import DecisionTreeClassifier\n",
    "\n",
    "model_DT=DecisionTreeClassifier( random_state=10)\n",
    "\n",
    "\n",
    "parameter_space = {\n",
    "    'min_samples_split':[7,9,5,11,15],       #np.arange(100, 1001,50),\n",
    "    'max_depth':[10,15, 8, 12],\n",
    "    'min_samples_leaf':[3,4,5,6,7]\n",
    "    }\n",
    "from sklearn.model_selection import GridSearchCV  #RandomizedSearchCV\n",
    "clf = GridSearchCV(model_DT, parameter_space, n_jobs=-1, cv=5)\n",
    " "
   ]
  },
  {
   "cell_type": "code",
   "execution_count": 54,
   "id": "0346adc0",
   "metadata": {},
   "outputs": [
    {
     "data": {
      "text/html": [
       "<style>#sk-container-id-1 {color: black;background-color: white;}#sk-container-id-1 pre{padding: 0;}#sk-container-id-1 div.sk-toggleable {background-color: white;}#sk-container-id-1 label.sk-toggleable__label {cursor: pointer;display: block;width: 100%;margin-bottom: 0;padding: 0.3em;box-sizing: border-box;text-align: center;}#sk-container-id-1 label.sk-toggleable__label-arrow:before {content: \"▸\";float: left;margin-right: 0.25em;color: #696969;}#sk-container-id-1 label.sk-toggleable__label-arrow:hover:before {color: black;}#sk-container-id-1 div.sk-estimator:hover label.sk-toggleable__label-arrow:before {color: black;}#sk-container-id-1 div.sk-toggleable__content {max-height: 0;max-width: 0;overflow: hidden;text-align: left;background-color: #f0f8ff;}#sk-container-id-1 div.sk-toggleable__content pre {margin: 0.2em;color: black;border-radius: 0.25em;background-color: #f0f8ff;}#sk-container-id-1 input.sk-toggleable__control:checked~div.sk-toggleable__content {max-height: 200px;max-width: 100%;overflow: auto;}#sk-container-id-1 input.sk-toggleable__control:checked~label.sk-toggleable__label-arrow:before {content: \"▾\";}#sk-container-id-1 div.sk-estimator input.sk-toggleable__control:checked~label.sk-toggleable__label {background-color: #d4ebff;}#sk-container-id-1 div.sk-label input.sk-toggleable__control:checked~label.sk-toggleable__label {background-color: #d4ebff;}#sk-container-id-1 input.sk-hidden--visually {border: 0;clip: rect(1px 1px 1px 1px);clip: rect(1px, 1px, 1px, 1px);height: 1px;margin: -1px;overflow: hidden;padding: 0;position: absolute;width: 1px;}#sk-container-id-1 div.sk-estimator {font-family: monospace;background-color: #f0f8ff;border: 1px dotted black;border-radius: 0.25em;box-sizing: border-box;margin-bottom: 0.5em;}#sk-container-id-1 div.sk-estimator:hover {background-color: #d4ebff;}#sk-container-id-1 div.sk-parallel-item::after {content: \"\";width: 100%;border-bottom: 1px solid gray;flex-grow: 1;}#sk-container-id-1 div.sk-label:hover label.sk-toggleable__label {background-color: #d4ebff;}#sk-container-id-1 div.sk-serial::before {content: \"\";position: absolute;border-left: 1px solid gray;box-sizing: border-box;top: 0;bottom: 0;left: 50%;z-index: 0;}#sk-container-id-1 div.sk-serial {display: flex;flex-direction: column;align-items: center;background-color: white;padding-right: 0.2em;padding-left: 0.2em;position: relative;}#sk-container-id-1 div.sk-item {position: relative;z-index: 1;}#sk-container-id-1 div.sk-parallel {display: flex;align-items: stretch;justify-content: center;background-color: white;position: relative;}#sk-container-id-1 div.sk-item::before, #sk-container-id-1 div.sk-parallel-item::before {content: \"\";position: absolute;border-left: 1px solid gray;box-sizing: border-box;top: 0;bottom: 0;left: 50%;z-index: -1;}#sk-container-id-1 div.sk-parallel-item {display: flex;flex-direction: column;z-index: 1;position: relative;background-color: white;}#sk-container-id-1 div.sk-parallel-item:first-child::after {align-self: flex-end;width: 50%;}#sk-container-id-1 div.sk-parallel-item:last-child::after {align-self: flex-start;width: 50%;}#sk-container-id-1 div.sk-parallel-item:only-child::after {width: 0;}#sk-container-id-1 div.sk-dashed-wrapped {border: 1px dashed gray;margin: 0 0.4em 0.5em 0.4em;box-sizing: border-box;padding-bottom: 0.4em;background-color: white;}#sk-container-id-1 div.sk-label label {font-family: monospace;font-weight: bold;display: inline-block;line-height: 1.2em;}#sk-container-id-1 div.sk-label-container {text-align: center;}#sk-container-id-1 div.sk-container {/* jupyter's `normalize.less` sets `[hidden] { display: none; }` but bootstrap.min.css set `[hidden] { display: none !important; }` so we also need the `!important` here to be able to override the default hidden behavior on the sphinx rendered scikit-learn.org. See: https://github.com/scikit-learn/scikit-learn/issues/21755 */display: inline-block !important;position: relative;}#sk-container-id-1 div.sk-text-repr-fallback {display: none;}</style><div id=\"sk-container-id-1\" class=\"sk-top-container\"><div class=\"sk-text-repr-fallback\"><pre>GridSearchCV(cv=5, estimator=DecisionTreeClassifier(random_state=10), n_jobs=-1,\n",
       "             param_grid={&#x27;max_depth&#x27;: [10, 15, 8, 12],\n",
       "                         &#x27;min_samples_leaf&#x27;: [3, 4, 5, 6, 7],\n",
       "                         &#x27;min_samples_split&#x27;: [7, 9, 5, 11, 15]})</pre><b>In a Jupyter environment, please rerun this cell to show the HTML representation or trust the notebook. <br />On GitHub, the HTML representation is unable to render, please try loading this page with nbviewer.org.</b></div><div class=\"sk-container\" hidden><div class=\"sk-item sk-dashed-wrapped\"><div class=\"sk-label-container\"><div class=\"sk-label sk-toggleable\"><input class=\"sk-toggleable__control sk-hidden--visually\" id=\"sk-estimator-id-1\" type=\"checkbox\" ><label for=\"sk-estimator-id-1\" class=\"sk-toggleable__label sk-toggleable__label-arrow\">GridSearchCV</label><div class=\"sk-toggleable__content\"><pre>GridSearchCV(cv=5, estimator=DecisionTreeClassifier(random_state=10), n_jobs=-1,\n",
       "             param_grid={&#x27;max_depth&#x27;: [10, 15, 8, 12],\n",
       "                         &#x27;min_samples_leaf&#x27;: [3, 4, 5, 6, 7],\n",
       "                         &#x27;min_samples_split&#x27;: [7, 9, 5, 11, 15]})</pre></div></div></div><div class=\"sk-parallel\"><div class=\"sk-parallel-item\"><div class=\"sk-item\"><div class=\"sk-label-container\"><div class=\"sk-label sk-toggleable\"><input class=\"sk-toggleable__control sk-hidden--visually\" id=\"sk-estimator-id-2\" type=\"checkbox\" ><label for=\"sk-estimator-id-2\" class=\"sk-toggleable__label sk-toggleable__label-arrow\">estimator: DecisionTreeClassifier</label><div class=\"sk-toggleable__content\"><pre>DecisionTreeClassifier(random_state=10)</pre></div></div></div><div class=\"sk-serial\"><div class=\"sk-item\"><div class=\"sk-estimator sk-toggleable\"><input class=\"sk-toggleable__control sk-hidden--visually\" id=\"sk-estimator-id-3\" type=\"checkbox\" ><label for=\"sk-estimator-id-3\" class=\"sk-toggleable__label sk-toggleable__label-arrow\">DecisionTreeClassifier</label><div class=\"sk-toggleable__content\"><pre>DecisionTreeClassifier(random_state=10)</pre></div></div></div></div></div></div></div></div></div></div>"
      ],
      "text/plain": [
       "GridSearchCV(cv=5, estimator=DecisionTreeClassifier(random_state=10), n_jobs=-1,\n",
       "             param_grid={'max_depth': [10, 15, 8, 12],\n",
       "                         'min_samples_leaf': [3, 4, 5, 6, 7],\n",
       "                         'min_samples_split': [7, 9, 5, 11, 15]})"
      ]
     },
     "execution_count": 54,
     "metadata": {},
     "output_type": "execute_result"
    }
   ],
   "source": [
    "clf.fit(X_train,Y_train)"
   ]
  },
  {
   "cell_type": "code",
   "execution_count": 55,
   "id": "b1bd7f06",
   "metadata": {},
   "outputs": [
    {
     "name": "stdout",
     "output_type": "stream",
     "text": [
      "Best parameters found:\n",
      " {'max_depth': 10, 'min_samples_leaf': 3, 'min_samples_split': 5}\n"
     ]
    }
   ],
   "source": [
    "print('Best parameters found:\\n', clf.best_params_)"
   ]
  },
  {
   "cell_type": "code",
   "execution_count": 56,
   "id": "00ab44b0",
   "metadata": {},
   "outputs": [
    {
     "data": {
      "text/plain": [
       "0.8037234042553191"
      ]
     },
     "execution_count": 56,
     "metadata": {},
     "output_type": "execute_result"
    }
   ],
   "source": [
    "clf.best_score_        #accuracy of the best params using the 5-fold CV"
   ]
  },
  {
   "cell_type": "code",
   "execution_count": 57,
   "id": "66eba531",
   "metadata": {},
   "outputs": [],
   "source": [
    "Y_pred=clf.predict(X_test)"
   ]
  },
  {
   "cell_type": "code",
   "execution_count": 58,
   "id": "40f172d6",
   "metadata": {},
   "outputs": [
    {
     "name": "stdout",
     "output_type": "stream",
     "text": [
      "[[17 13]\n",
      " [ 9 21]]\n",
      "0.6333333333333333\n",
      "              precision    recall  f1-score   support\n",
      "\n",
      "         0.0       0.65      0.57      0.61        30\n",
      "         1.0       0.62      0.70      0.66        30\n",
      "\n",
      "    accuracy                           0.63        60\n",
      "   macro avg       0.64      0.63      0.63        60\n",
      "weighted avg       0.64      0.63      0.63        60\n",
      "\n"
     ]
    }
   ],
   "source": [
    "from sklearn.metrics import confusion_matrix, accuracy_score, classification_report\n",
    "print(confusion_matrix(Y_test,Y_pred))\n",
    "print(accuracy_score(Y_test,Y_pred))\n",
    "print(classification_report(Y_test,Y_pred))"
   ]
  },
  {
   "cell_type": "code",
   "execution_count": 59,
   "id": "9fcec0a7",
   "metadata": {},
   "outputs": [
    {
     "name": "stderr",
     "output_type": "stream",
     "text": [
      "C:\\Users\\HELLO\\AppData\\Local\\Temp\\ipykernel_9796\\1595872956.py:18: FutureWarning: The frame.append method is deprecated and will be removed from pandas in a future version. Use pandas.concat instead.\n",
      "  result_tabulation = result_tabulation.append(Tuned_decision_tree, ignore_index = True)\n"
     ]
    },
    {
     "data": {
      "text/html": [
       "<div>\n",
       "<style scoped>\n",
       "    .dataframe tbody tr th:only-of-type {\n",
       "        vertical-align: middle;\n",
       "    }\n",
       "\n",
       "    .dataframe tbody tr th {\n",
       "        vertical-align: top;\n",
       "    }\n",
       "\n",
       "    .dataframe thead th {\n",
       "        text-align: right;\n",
       "    }\n",
       "</style>\n",
       "<table border=\"1\" class=\"dataframe\">\n",
       "  <thead>\n",
       "    <tr style=\"text-align: right;\">\n",
       "      <th></th>\n",
       "      <th>Model</th>\n",
       "      <th>Precision Score</th>\n",
       "      <th>Recall Score</th>\n",
       "      <th>Accuracy Score</th>\n",
       "      <th>f1-score</th>\n",
       "      <th>AUC Score</th>\n",
       "    </tr>\n",
       "  </thead>\n",
       "  <tbody>\n",
       "    <tr>\n",
       "      <th>0</th>\n",
       "      <td>Decision Tree</td>\n",
       "      <td>0.657143</td>\n",
       "      <td>0.766667</td>\n",
       "      <td>0.683333</td>\n",
       "      <td>0.707692</td>\n",
       "      <td>0.683333</td>\n",
       "    </tr>\n",
       "    <tr>\n",
       "      <th>1</th>\n",
       "      <td>Tuned_decision_tree</td>\n",
       "      <td>0.617647</td>\n",
       "      <td>0.700000</td>\n",
       "      <td>0.633333</td>\n",
       "      <td>0.656250</td>\n",
       "      <td>0.633333</td>\n",
       "    </tr>\n",
       "  </tbody>\n",
       "</table>\n",
       "</div>"
      ],
      "text/plain": [
       "                 Model  Precision Score  Recall Score  Accuracy Score  \\\n",
       "0        Decision Tree         0.657143      0.766667        0.683333   \n",
       "1  Tuned_decision_tree         0.617647      0.700000        0.633333   \n",
       "\n",
       "   f1-score  AUC Score  \n",
       "0  0.707692   0.683333  \n",
       "1  0.656250   0.633333  "
      ]
     },
     "execution_count": 59,
     "metadata": {},
     "output_type": "execute_result"
    }
   ],
   "source": [
    "from sklearn import metrics\n",
    "# create the result table for all accuracy scores\n",
    "# Accuracy measures considered for model comparision are 'Model', 'AUC Score', 'Precision Score', 'Recall Score','Accuracy Score','Kappa Score', 'f1 - score'\n",
    "\n",
    "# create a list of column names\n",
    "Tuned_decision_tree = pd.Series({'Model': \"Tuned_decision_tree\",\n",
    "                     'AUC Score' : metrics.roc_auc_score(Y_test, Y_pred),\n",
    "                 'Precision Score': metrics.precision_score(Y_test, Y_pred),\n",
    "                 'Recall Score': metrics.recall_score(Y_test, Y_pred),\n",
    "                 'Accuracy Score': metrics.accuracy_score(Y_test, Y_pred),\n",
    "                 'f1-score':metrics.f1_score(Y_test, Y_pred)})\n",
    "\n",
    "\n",
    "\n",
    "\n",
    "\n",
    "# appending our result table\n",
    "result_tabulation = result_tabulation.append(Tuned_decision_tree, ignore_index = True)\n",
    "\n",
    "# view the result table\n",
    "result_tabulation"
   ]
  },
  {
   "cell_type": "markdown",
   "id": "bad90314",
   "metadata": {},
   "source": [
    "<a id='Logistic_regression'></a>\n",
    "## 4.3 Logistic Regression"
   ]
  },
  {
   "cell_type": "code",
   "execution_count": 60,
   "id": "8ef95641",
   "metadata": {},
   "outputs": [
    {
     "name": "stdout",
     "output_type": "stream",
     "text": [
      "[0.07504049]\n",
      "[[ 0.07685639  0.71112174 -0.4362888  -0.05419154 -0.14636857  0.28623956\n",
      "   0.60602139 -0.46751798 -0.85215869  0.48290631 -0.95793895 -0.81197333]]\n"
     ]
    }
   ],
   "source": [
    "from sklearn.linear_model import LogisticRegression\n",
    "# create a model\n",
    "classifier=LogisticRegression()\n",
    "# fitting training data to the model\n",
    "classifier.fit(X_train,Y_train)\n",
    "\n",
    "print(classifier.intercept_)  # Beta 0\n",
    "print(classifier.coef_)       # beta 1"
   ]
  },
  {
   "cell_type": "code",
   "execution_count": 61,
   "id": "ae6423e1",
   "metadata": {},
   "outputs": [
    {
     "name": "stdout",
     "output_type": "stream",
     "text": [
      "[[0.1780733  0.8219267 ]\n",
      " [0.04331126 0.95668874]\n",
      " [0.23216603 0.76783397]\n",
      " [0.28880501 0.71119499]\n",
      " [0.95558779 0.04441221]\n",
      " [0.04032607 0.95967393]\n",
      " [0.10635326 0.89364674]\n",
      " [0.07467262 0.92532738]\n",
      " [0.36210689 0.63789311]\n",
      " [0.96522584 0.03477416]\n",
      " [0.90968158 0.09031842]\n",
      " [0.35854265 0.64145735]\n",
      " [0.99723824 0.00276176]\n",
      " [0.68045683 0.31954317]\n",
      " [0.9518935  0.0481065 ]\n",
      " [0.12563355 0.87436645]\n",
      " [0.1283621  0.8716379 ]\n",
      " [0.94711639 0.05288361]\n",
      " [0.05718017 0.94281983]\n",
      " [0.46938138 0.53061862]\n",
      " [0.93046668 0.06953332]\n",
      " [0.87106855 0.12893145]\n",
      " [0.94227766 0.05772234]\n",
      " [0.03980903 0.96019097]\n",
      " [0.97153694 0.02846306]\n",
      " [0.01101893 0.98898107]\n",
      " [0.41235189 0.58764811]\n",
      " [0.09227813 0.90772187]\n",
      " [0.92708232 0.07291768]\n",
      " [0.02798112 0.97201888]\n",
      " [0.04029027 0.95970973]\n",
      " [0.20780907 0.79219093]\n",
      " [0.36304939 0.63695061]\n",
      " [0.99520871 0.00479129]\n",
      " [0.88504908 0.11495092]\n",
      " [0.16065321 0.83934679]\n",
      " [0.09939325 0.90060675]\n",
      " [0.97629201 0.02370799]\n",
      " [0.94599621 0.05400379]\n",
      " [0.70021166 0.29978834]\n",
      " [0.32449025 0.67550975]\n",
      " [0.26827134 0.73172866]\n",
      " [0.40834593 0.59165407]\n",
      " [0.9943793  0.0056207 ]\n",
      " [0.59023758 0.40976242]\n",
      " [0.08535189 0.91464811]\n",
      " [0.31977623 0.68022377]\n",
      " [0.34938875 0.65061125]\n",
      " [0.02278248 0.97721752]\n",
      " [0.17697079 0.82302921]\n",
      " [0.35437263 0.64562737]\n",
      " [0.21422971 0.78577029]\n",
      " [0.93307304 0.06692696]\n",
      " [0.80485806 0.19514194]\n",
      " [0.99744988 0.00255012]\n",
      " [0.8013266  0.1986734 ]\n",
      " [0.0224083  0.9775917 ]\n",
      " [0.23244102 0.76755898]\n",
      " [0.04598677 0.95401323]\n",
      " [0.60320637 0.39679363]]\n"
     ]
    }
   ],
   "source": [
    "y_pred_prob=classifier.predict_proba(X_test)\n",
    "print(y_pred_prob)"
   ]
  },
  {
   "cell_type": "code",
   "execution_count": 62,
   "id": "bde3a5f1",
   "metadata": {},
   "outputs": [
    {
     "name": "stdout",
     "output_type": "stream",
     "text": [
      "[1. 1. 1. 1. 0. 1. 1. 1. 1. 0. 0. 1. 0. 0. 0. 1. 1. 0. 1. 1. 0. 0. 0. 1.\n",
      " 0. 1. 1. 1. 0. 1. 1. 1. 1. 0. 0. 1. 1. 0. 0. 0. 1. 1. 1. 0. 0. 1. 1. 1.\n",
      " 1. 1. 1. 1. 0. 0. 0. 0. 1. 1. 1. 0.]\n"
     ]
    }
   ],
   "source": [
    "Y_pred=classifier.predict(X_test)\n",
    "print(Y_pred)"
   ]
  },
  {
   "cell_type": "code",
   "execution_count": 63,
   "id": "c8dc6f73",
   "metadata": {},
   "outputs": [
    {
     "name": "stdout",
     "output_type": "stream",
     "text": [
      "[[19 11]\n",
      " [ 5 25]]\n",
      "Classification report: \n",
      "              precision    recall  f1-score   support\n",
      "\n",
      "         0.0       0.79      0.63      0.70        30\n",
      "         1.0       0.69      0.83      0.76        30\n",
      "\n",
      "    accuracy                           0.73        60\n",
      "   macro avg       0.74      0.73      0.73        60\n",
      "weighted avg       0.74      0.73      0.73        60\n",
      "\n",
      "Accuracy of the model:  0.7333333333333333\n"
     ]
    }
   ],
   "source": [
    "from sklearn.metrics import confusion_matrix, accuracy_score, classification_report\n",
    " \n",
    "cfm=confusion_matrix(Y_test,Y_pred)\n",
    "print(cfm)\n",
    " \n",
    "print(\"Classification report: \")\n",
    " \n",
    "print(classification_report(Y_test,Y_pred))\n",
    " \n",
    "acc=accuracy_score(Y_test, Y_pred)\n",
    "print(\"Accuracy of the model: \",acc)"
   ]
  },
  {
   "cell_type": "code",
   "execution_count": 64,
   "id": "ae43dce4",
   "metadata": {},
   "outputs": [
    {
     "name": "stderr",
     "output_type": "stream",
     "text": [
      "C:\\Users\\HELLO\\AppData\\Local\\Temp\\ipykernel_9796\\479617809.py:18: FutureWarning: The frame.append method is deprecated and will be removed from pandas in a future version. Use pandas.concat instead.\n",
      "  result_tabulation = result_tabulation.append(Logistic_regression, ignore_index = True)\n"
     ]
    },
    {
     "data": {
      "text/html": [
       "<div>\n",
       "<style scoped>\n",
       "    .dataframe tbody tr th:only-of-type {\n",
       "        vertical-align: middle;\n",
       "    }\n",
       "\n",
       "    .dataframe tbody tr th {\n",
       "        vertical-align: top;\n",
       "    }\n",
       "\n",
       "    .dataframe thead th {\n",
       "        text-align: right;\n",
       "    }\n",
       "</style>\n",
       "<table border=\"1\" class=\"dataframe\">\n",
       "  <thead>\n",
       "    <tr style=\"text-align: right;\">\n",
       "      <th></th>\n",
       "      <th>Model</th>\n",
       "      <th>Precision Score</th>\n",
       "      <th>Recall Score</th>\n",
       "      <th>Accuracy Score</th>\n",
       "      <th>f1-score</th>\n",
       "      <th>AUC Score</th>\n",
       "    </tr>\n",
       "  </thead>\n",
       "  <tbody>\n",
       "    <tr>\n",
       "      <th>0</th>\n",
       "      <td>Decision Tree</td>\n",
       "      <td>0.657143</td>\n",
       "      <td>0.766667</td>\n",
       "      <td>0.683333</td>\n",
       "      <td>0.707692</td>\n",
       "      <td>0.683333</td>\n",
       "    </tr>\n",
       "    <tr>\n",
       "      <th>1</th>\n",
       "      <td>Tuned_decision_tree</td>\n",
       "      <td>0.617647</td>\n",
       "      <td>0.700000</td>\n",
       "      <td>0.633333</td>\n",
       "      <td>0.656250</td>\n",
       "      <td>0.633333</td>\n",
       "    </tr>\n",
       "    <tr>\n",
       "      <th>2</th>\n",
       "      <td>Logistic_regression</td>\n",
       "      <td>0.694444</td>\n",
       "      <td>0.833333</td>\n",
       "      <td>0.733333</td>\n",
       "      <td>0.757576</td>\n",
       "      <td>0.733333</td>\n",
       "    </tr>\n",
       "  </tbody>\n",
       "</table>\n",
       "</div>"
      ],
      "text/plain": [
       "                 Model  Precision Score  Recall Score  Accuracy Score  \\\n",
       "0        Decision Tree         0.657143      0.766667        0.683333   \n",
       "1  Tuned_decision_tree         0.617647      0.700000        0.633333   \n",
       "2  Logistic_regression         0.694444      0.833333        0.733333   \n",
       "\n",
       "   f1-score  AUC Score  \n",
       "0  0.707692   0.683333  \n",
       "1  0.656250   0.633333  \n",
       "2  0.757576   0.733333  "
      ]
     },
     "execution_count": 64,
     "metadata": {},
     "output_type": "execute_result"
    }
   ],
   "source": [
    "from sklearn import metrics\n",
    "# create the result table for all accuracy scores\n",
    "# Accuracy measures considered for model comparision are 'Model', 'AUC Score', 'Precision Score', 'Recall Score','Accuracy Score','Kappa Score', 'f1 - score'\n",
    "\n",
    "# create a list of column names\n",
    "Logistic_regression= pd.Series({'Model': \"Logistic_regression\",\n",
    "                     'AUC Score' : metrics.roc_auc_score(Y_test, Y_pred),\n",
    "                 'Precision Score': metrics.precision_score(Y_test, Y_pred),\n",
    "                 'Recall Score': metrics.recall_score(Y_test, Y_pred),\n",
    "                 'Accuracy Score': metrics.accuracy_score(Y_test, Y_pred),\n",
    "                 'f1-score':metrics.f1_score(Y_test, Y_pred)})\n",
    "\n",
    "\n",
    "\n",
    "\n",
    "\n",
    "# appending our result table\n",
    "result_tabulation = result_tabulation.append(Logistic_regression, ignore_index = True)\n",
    "\n",
    "# view the result table\n",
    "result_tabulation"
   ]
  },
  {
   "cell_type": "code",
   "execution_count": 65,
   "id": "5dee5f9d",
   "metadata": {},
   "outputs": [
    {
     "data": {
      "text/html": [
       "<div>\n",
       "<style scoped>\n",
       "    .dataframe tbody tr th:only-of-type {\n",
       "        vertical-align: middle;\n",
       "    }\n",
       "\n",
       "    .dataframe tbody tr th {\n",
       "        vertical-align: top;\n",
       "    }\n",
       "\n",
       "    .dataframe thead th {\n",
       "        text-align: right;\n",
       "    }\n",
       "</style>\n",
       "<table border=\"1\" class=\"dataframe\">\n",
       "  <thead>\n",
       "    <tr style=\"text-align: right;\">\n",
       "      <th></th>\n",
       "      <th>Model</th>\n",
       "      <th>Precision Score</th>\n",
       "      <th>Recall Score</th>\n",
       "      <th>Accuracy Score</th>\n",
       "      <th>f1-score</th>\n",
       "      <th>AUC Score</th>\n",
       "    </tr>\n",
       "  </thead>\n",
       "  <tbody>\n",
       "    <tr>\n",
       "      <th>0</th>\n",
       "      <td>Decision Tree</td>\n",
       "      <td>0.657143</td>\n",
       "      <td>0.766667</td>\n",
       "      <td>0.683333</td>\n",
       "      <td>0.707692</td>\n",
       "      <td>0.683333</td>\n",
       "    </tr>\n",
       "    <tr>\n",
       "      <th>1</th>\n",
       "      <td>Tuned_decision_tree</td>\n",
       "      <td>0.617647</td>\n",
       "      <td>0.700000</td>\n",
       "      <td>0.633333</td>\n",
       "      <td>0.656250</td>\n",
       "      <td>0.633333</td>\n",
       "    </tr>\n",
       "    <tr>\n",
       "      <th>2</th>\n",
       "      <td>Logistic_regression</td>\n",
       "      <td>0.694444</td>\n",
       "      <td>0.833333</td>\n",
       "      <td>0.733333</td>\n",
       "      <td>0.757576</td>\n",
       "      <td>0.733333</td>\n",
       "    </tr>\n",
       "  </tbody>\n",
       "</table>\n",
       "</div>"
      ],
      "text/plain": [
       "                 Model  Precision Score  Recall Score  Accuracy Score  \\\n",
       "0        Decision Tree         0.657143      0.766667        0.683333   \n",
       "1  Tuned_decision_tree         0.617647      0.700000        0.633333   \n",
       "2  Logistic_regression         0.694444      0.833333        0.733333   \n",
       "\n",
       "   f1-score  AUC Score  \n",
       "0  0.707692   0.683333  \n",
       "1  0.656250   0.633333  \n",
       "2  0.757576   0.733333  "
      ]
     },
     "execution_count": 65,
     "metadata": {},
     "output_type": "execute_result"
    }
   ],
   "source": [
    "result_tabulation"
   ]
  },
  {
   "cell_type": "markdown",
   "id": "b5976fe9",
   "metadata": {},
   "source": [
    "<a id='Tuned_LR'></a>\n",
    "## 4.4 Tuned Logistic Regression"
   ]
  },
  {
   "cell_type": "code",
   "execution_count": 66,
   "id": "da788549",
   "metadata": {},
   "outputs": [
    {
     "name": "stdout",
     "output_type": "stream",
     "text": [
      "[1, 1, 1, 1, 0, 1, 1, 1, 1, 0, 0, 1, 0, 0, 0, 1, 1, 0, 1, 0, 0, 0, 0, 1, 0, 1, 0, 1, 0, 1, 1, 1, 1, 0, 0, 1, 1, 0, 0, 0, 1, 1, 1, 0, 0, 1, 1, 1, 1, 1, 1, 1, 0, 0, 0, 0, 1, 1, 1, 0]\n"
     ]
    }
   ],
   "source": [
    "y_pred_class=[]\n",
    "for value in y_pred_prob[:,1]:\n",
    "    if value > 0.59:\n",
    "        y_pred_class.append(1)\n",
    "    else:\n",
    "        y_pred_class.append(0)\n",
    "print(y_pred_class)"
   ]
  },
  {
   "cell_type": "code",
   "execution_count": 67,
   "id": "5b951aae",
   "metadata": {},
   "outputs": [
    {
     "name": "stdout",
     "output_type": "stream",
     "text": [
      "[[21  9]\n",
      " [ 5 25]]\n",
      "Classification report: \n",
      "              precision    recall  f1-score   support\n",
      "\n",
      "         0.0       0.81      0.70      0.75        30\n",
      "         1.0       0.74      0.83      0.78        30\n",
      "\n",
      "    accuracy                           0.77        60\n",
      "   macro avg       0.77      0.77      0.77        60\n",
      "weighted avg       0.77      0.77      0.77        60\n",
      "\n",
      "Accuracy of the model:  0.7666666666666667\n"
     ]
    }
   ],
   "source": [
    "from sklearn.metrics import confusion_matrix, accuracy_score, classification_report\n",
    " \n",
    "cfm=confusion_matrix(Y_test,y_pred_class)\n",
    "print(cfm)\n",
    " \n",
    "print(\"Classification report: \")\n",
    " \n",
    "print(classification_report(Y_test,y_pred_class))\n",
    " \n",
    "acc=accuracy_score(Y_test, y_pred_class)\n",
    "print(\"Accuracy of the model: \",acc)"
   ]
  },
  {
   "cell_type": "code",
   "execution_count": 68,
   "id": "931915f5",
   "metadata": {},
   "outputs": [
    {
     "name": "stderr",
     "output_type": "stream",
     "text": [
      "C:\\Users\\HELLO\\AppData\\Local\\Temp\\ipykernel_9796\\2425695776.py:7: FutureWarning: The frame.append method is deprecated and will be removed from pandas in a future version. Use pandas.concat instead.\n",
      "  result_tabulation = result_tabulation.append(Tuned_Logistic_regression, ignore_index = True)\n"
     ]
    },
    {
     "data": {
      "text/html": [
       "<div>\n",
       "<style scoped>\n",
       "    .dataframe tbody tr th:only-of-type {\n",
       "        vertical-align: middle;\n",
       "    }\n",
       "\n",
       "    .dataframe tbody tr th {\n",
       "        vertical-align: top;\n",
       "    }\n",
       "\n",
       "    .dataframe thead th {\n",
       "        text-align: right;\n",
       "    }\n",
       "</style>\n",
       "<table border=\"1\" class=\"dataframe\">\n",
       "  <thead>\n",
       "    <tr style=\"text-align: right;\">\n",
       "      <th></th>\n",
       "      <th>Model</th>\n",
       "      <th>Precision Score</th>\n",
       "      <th>Recall Score</th>\n",
       "      <th>Accuracy Score</th>\n",
       "      <th>f1-score</th>\n",
       "      <th>AUC Score</th>\n",
       "    </tr>\n",
       "  </thead>\n",
       "  <tbody>\n",
       "    <tr>\n",
       "      <th>0</th>\n",
       "      <td>Decision Tree</td>\n",
       "      <td>0.657143</td>\n",
       "      <td>0.766667</td>\n",
       "      <td>0.683333</td>\n",
       "      <td>0.707692</td>\n",
       "      <td>0.683333</td>\n",
       "    </tr>\n",
       "    <tr>\n",
       "      <th>1</th>\n",
       "      <td>Tuned_decision_tree</td>\n",
       "      <td>0.617647</td>\n",
       "      <td>0.700000</td>\n",
       "      <td>0.633333</td>\n",
       "      <td>0.656250</td>\n",
       "      <td>0.633333</td>\n",
       "    </tr>\n",
       "    <tr>\n",
       "      <th>2</th>\n",
       "      <td>Logistic_regression</td>\n",
       "      <td>0.694444</td>\n",
       "      <td>0.833333</td>\n",
       "      <td>0.733333</td>\n",
       "      <td>0.757576</td>\n",
       "      <td>0.733333</td>\n",
       "    </tr>\n",
       "    <tr>\n",
       "      <th>3</th>\n",
       "      <td>Tuned_Logistic_regression</td>\n",
       "      <td>0.735294</td>\n",
       "      <td>0.833333</td>\n",
       "      <td>0.766667</td>\n",
       "      <td>0.781250</td>\n",
       "      <td>0.766667</td>\n",
       "    </tr>\n",
       "  </tbody>\n",
       "</table>\n",
       "</div>"
      ],
      "text/plain": [
       "                       Model  Precision Score  Recall Score  Accuracy Score  \\\n",
       "0              Decision Tree         0.657143      0.766667        0.683333   \n",
       "1        Tuned_decision_tree         0.617647      0.700000        0.633333   \n",
       "2        Logistic_regression         0.694444      0.833333        0.733333   \n",
       "3  Tuned_Logistic_regression         0.735294      0.833333        0.766667   \n",
       "\n",
       "   f1-score  AUC Score  \n",
       "0  0.707692   0.683333  \n",
       "1  0.656250   0.633333  \n",
       "2  0.757576   0.733333  \n",
       "3  0.781250   0.766667  "
      ]
     },
     "execution_count": 68,
     "metadata": {},
     "output_type": "execute_result"
    }
   ],
   "source": [
    "Tuned_Logistic_regression= pd.Series({'Model': \"Tuned_Logistic_regression\",\n",
    "                     'AUC Score' : metrics.roc_auc_score(Y_test, y_pred_class),\n",
    "                 'Precision Score': metrics.precision_score(Y_test, y_pred_class),\n",
    "                 'Recall Score': metrics.recall_score(Y_test, y_pred_class),\n",
    "                 'Accuracy Score': metrics.accuracy_score(Y_test, y_pred_class),\n",
    "                 'f1-score':metrics.f1_score(Y_test, y_pred_class)})\n",
    "result_tabulation = result_tabulation.append(Tuned_Logistic_regression, ignore_index = True)\n",
    "\n",
    "# view the result table\n",
    "result_tabulation"
   ]
  },
  {
   "cell_type": "code",
   "execution_count": 69,
   "id": "b7435779",
   "metadata": {},
   "outputs": [
    {
     "name": "stdout",
     "output_type": "stream",
     "text": [
      "Errors at threshold  0.4 : 17  , type 2 error : 5  , type 1 error: 12\n",
      "Errors at threshold  0.41000000000000003 : 16  , type 2 error : 5  , type 1 error: 11\n",
      "Errors at threshold  0.42000000000000004 : 16  , type 2 error : 5  , type 1 error: 11\n",
      "Errors at threshold  0.43000000000000005 : 16  , type 2 error : 5  , type 1 error: 11\n",
      "Errors at threshold  0.44000000000000006 : 16  , type 2 error : 5  , type 1 error: 11\n",
      "Errors at threshold  0.45000000000000007 : 16  , type 2 error : 5  , type 1 error: 11\n",
      "Errors at threshold  0.4600000000000001 : 16  , type 2 error : 5  , type 1 error: 11\n",
      "Errors at threshold  0.4700000000000001 : 16  , type 2 error : 5  , type 1 error: 11\n",
      "Errors at threshold  0.4800000000000001 : 16  , type 2 error : 5  , type 1 error: 11\n",
      "Errors at threshold  0.4900000000000001 : 16  , type 2 error : 5  , type 1 error: 11\n",
      "Errors at threshold  0.5000000000000001 : 16  , type 2 error : 5  , type 1 error: 11\n",
      "Errors at threshold  0.5100000000000001 : 16  , type 2 error : 5  , type 1 error: 11\n",
      "Errors at threshold  0.5200000000000001 : 16  , type 2 error : 5  , type 1 error: 11\n",
      "Errors at threshold  0.5300000000000001 : 16  , type 2 error : 5  , type 1 error: 11\n",
      "Errors at threshold  0.5400000000000001 : 15  , type 2 error : 5  , type 1 error: 10\n",
      "Errors at threshold  0.5500000000000002 : 15  , type 2 error : 5  , type 1 error: 10\n",
      "Errors at threshold  0.5600000000000002 : 15  , type 2 error : 5  , type 1 error: 10\n",
      "Errors at threshold  0.5700000000000002 : 15  , type 2 error : 5  , type 1 error: 10\n",
      "Errors at threshold  0.5800000000000002 : 15  , type 2 error : 5  , type 1 error: 10\n",
      "Errors at threshold  0.5900000000000002 : 14  , type 2 error : 5  , type 1 error: 9\n",
      "Errors at threshold  0.6000000000000002 : 15  , type 2 error : 6  , type 1 error: 9\n"
     ]
    }
   ],
   "source": [
    "for a in np.arange(0.4,0.61,0.01):\n",
    "    predict_mine = np.where(y_pred_prob[:,1] > a, 1, 0)\n",
    "    cfm=confusion_matrix(Y_test, predict_mine)\n",
    "    total_err=cfm[0,1]+cfm[1,0]\n",
    "    print(\"Errors at threshold \", a, \":\",total_err, \" , type 2 error :\", \n",
    "          cfm[1,0],\" , type 1 error:\", cfm[0,1])"
   ]
  },
  {
   "cell_type": "markdown",
   "id": "43e0d546",
   "metadata": {},
   "source": [
    "<a id='SVM'></a>\n",
    "## 4.5 SVM"
   ]
  },
  {
   "cell_type": "code",
   "execution_count": 70,
   "id": "b978add6",
   "metadata": {},
   "outputs": [
    {
     "name": "stdout",
     "output_type": "stream",
     "text": [
      "[[19 11]\n",
      " [11 19]]\n",
      "The accuracy of the  SVC  model is  63.33333333333333\n",
      "Classification report:\n",
      "               precision    recall  f1-score   support\n",
      "\n",
      "         0.0       0.63      0.63      0.63        30\n",
      "         1.0       0.63      0.63      0.63        30\n",
      "\n",
      "    accuracy                           0.63        60\n",
      "   macro avg       0.63      0.63      0.63        60\n",
      "weighted avg       0.63      0.63      0.63        60\n",
      "\n",
      "\n",
      "\n"
     ]
    }
   ],
   "source": [
    "from sklearn.svm import SVC\n",
    "svm= SVC(kernel=\"rbf\", gamma=0.59, C=70,random_state=10)\n",
    "svm.fit(X_train, Y_train) # fit the model\n",
    "Y_pred= svm.predict(X_test) # then predict on the test set\n",
    "accuracy= accuracy_score(Y_test, Y_pred) \n",
    "clf_report= classification_report(Y_test, Y_pred) \n",
    "print(confusion_matrix(Y_test,Y_pred))\n",
    "print(\"The accuracy of the \",type(svm).__name__, \" model is \", accuracy*100 )\n",
    "print(\"Classification report:\\n\", clf_report)\n",
    "print(\"\\n\")"
   ]
  },
  {
   "cell_type": "code",
   "execution_count": 71,
   "id": "88716b82",
   "metadata": {},
   "outputs": [
    {
     "name": "stderr",
     "output_type": "stream",
     "text": [
      "C:\\Users\\HELLO\\AppData\\Local\\Temp\\ipykernel_9796\\1358906859.py:13: FutureWarning: The frame.append method is deprecated and will be removed from pandas in a future version. Use pandas.concat instead.\n",
      "  result_tabulation = result_tabulation.append(SVC, ignore_index = True)\n"
     ]
    },
    {
     "data": {
      "text/html": [
       "<div>\n",
       "<style scoped>\n",
       "    .dataframe tbody tr th:only-of-type {\n",
       "        vertical-align: middle;\n",
       "    }\n",
       "\n",
       "    .dataframe tbody tr th {\n",
       "        vertical-align: top;\n",
       "    }\n",
       "\n",
       "    .dataframe thead th {\n",
       "        text-align: right;\n",
       "    }\n",
       "</style>\n",
       "<table border=\"1\" class=\"dataframe\">\n",
       "  <thead>\n",
       "    <tr style=\"text-align: right;\">\n",
       "      <th></th>\n",
       "      <th>Model</th>\n",
       "      <th>Precision Score</th>\n",
       "      <th>Recall Score</th>\n",
       "      <th>Accuracy Score</th>\n",
       "      <th>f1-score</th>\n",
       "      <th>AUC Score</th>\n",
       "    </tr>\n",
       "  </thead>\n",
       "  <tbody>\n",
       "    <tr>\n",
       "      <th>0</th>\n",
       "      <td>Decision Tree</td>\n",
       "      <td>0.657143</td>\n",
       "      <td>0.766667</td>\n",
       "      <td>0.683333</td>\n",
       "      <td>0.707692</td>\n",
       "      <td>0.683333</td>\n",
       "    </tr>\n",
       "    <tr>\n",
       "      <th>1</th>\n",
       "      <td>Tuned_decision_tree</td>\n",
       "      <td>0.617647</td>\n",
       "      <td>0.700000</td>\n",
       "      <td>0.633333</td>\n",
       "      <td>0.656250</td>\n",
       "      <td>0.633333</td>\n",
       "    </tr>\n",
       "    <tr>\n",
       "      <th>2</th>\n",
       "      <td>Logistic_regression</td>\n",
       "      <td>0.694444</td>\n",
       "      <td>0.833333</td>\n",
       "      <td>0.733333</td>\n",
       "      <td>0.757576</td>\n",
       "      <td>0.733333</td>\n",
       "    </tr>\n",
       "    <tr>\n",
       "      <th>3</th>\n",
       "      <td>Tuned_Logistic_regression</td>\n",
       "      <td>0.735294</td>\n",
       "      <td>0.833333</td>\n",
       "      <td>0.766667</td>\n",
       "      <td>0.781250</td>\n",
       "      <td>0.766667</td>\n",
       "    </tr>\n",
       "    <tr>\n",
       "      <th>4</th>\n",
       "      <td>SVC</td>\n",
       "      <td>0.633333</td>\n",
       "      <td>0.633333</td>\n",
       "      <td>0.633333</td>\n",
       "      <td>0.633333</td>\n",
       "      <td>0.633333</td>\n",
       "    </tr>\n",
       "  </tbody>\n",
       "</table>\n",
       "</div>"
      ],
      "text/plain": [
       "                       Model  Precision Score  Recall Score  Accuracy Score  \\\n",
       "0              Decision Tree         0.657143      0.766667        0.683333   \n",
       "1        Tuned_decision_tree         0.617647      0.700000        0.633333   \n",
       "2        Logistic_regression         0.694444      0.833333        0.733333   \n",
       "3  Tuned_Logistic_regression         0.735294      0.833333        0.766667   \n",
       "4                        SVC         0.633333      0.633333        0.633333   \n",
       "\n",
       "   f1-score  AUC Score  \n",
       "0  0.707692   0.683333  \n",
       "1  0.656250   0.633333  \n",
       "2  0.757576   0.733333  \n",
       "3  0.781250   0.766667  \n",
       "4  0.633333   0.633333  "
      ]
     },
     "execution_count": 71,
     "metadata": {},
     "output_type": "execute_result"
    }
   ],
   "source": [
    "SVC = pd.Series({'Model': \"SVC\",\n",
    "                     'AUC Score' : metrics.roc_auc_score(Y_test, Y_pred),\n",
    "                 'Precision Score': metrics.precision_score(Y_test, Y_pred),\n",
    "                 'Recall Score': metrics.recall_score(Y_test, Y_pred),\n",
    "                 'Accuracy Score': metrics.accuracy_score(Y_test, Y_pred),\n",
    "                 'f1-score':metrics.f1_score(Y_test, Y_pred)})\n",
    "\n",
    "\n",
    "\n",
    "\n",
    "\n",
    "# appending our result table\n",
    "result_tabulation = result_tabulation.append(SVC, ignore_index = True)\n",
    "\n",
    "# view the result table\n",
    "result_tabulation"
   ]
  },
  {
   "cell_type": "markdown",
   "id": "48331051",
   "metadata": {},
   "source": [
    "<a id='Model_comparision'></a>\n",
    "## Model Comparision"
   ]
  },
  {
   "cell_type": "code",
   "execution_count": 72,
   "id": "12c27127",
   "metadata": {},
   "outputs": [
    {
     "data": {
      "text/html": [
       "<div>\n",
       "<style scoped>\n",
       "    .dataframe tbody tr th:only-of-type {\n",
       "        vertical-align: middle;\n",
       "    }\n",
       "\n",
       "    .dataframe tbody tr th {\n",
       "        vertical-align: top;\n",
       "    }\n",
       "\n",
       "    .dataframe thead th {\n",
       "        text-align: right;\n",
       "    }\n",
       "</style>\n",
       "<table border=\"1\" class=\"dataframe\">\n",
       "  <thead>\n",
       "    <tr style=\"text-align: right;\">\n",
       "      <th></th>\n",
       "      <th>Model</th>\n",
       "      <th>Precision Score</th>\n",
       "      <th>Recall Score</th>\n",
       "      <th>Accuracy Score</th>\n",
       "      <th>f1-score</th>\n",
       "      <th>AUC Score</th>\n",
       "    </tr>\n",
       "  </thead>\n",
       "  <tbody>\n",
       "    <tr>\n",
       "      <th>0</th>\n",
       "      <td>Decision Tree</td>\n",
       "      <td>0.657143</td>\n",
       "      <td>0.766667</td>\n",
       "      <td>0.683333</td>\n",
       "      <td>0.707692</td>\n",
       "      <td>0.683333</td>\n",
       "    </tr>\n",
       "    <tr>\n",
       "      <th>1</th>\n",
       "      <td>Tuned_decision_tree</td>\n",
       "      <td>0.617647</td>\n",
       "      <td>0.700000</td>\n",
       "      <td>0.633333</td>\n",
       "      <td>0.656250</td>\n",
       "      <td>0.633333</td>\n",
       "    </tr>\n",
       "    <tr>\n",
       "      <th>2</th>\n",
       "      <td>Logistic_regression</td>\n",
       "      <td>0.694444</td>\n",
       "      <td>0.833333</td>\n",
       "      <td>0.733333</td>\n",
       "      <td>0.757576</td>\n",
       "      <td>0.733333</td>\n",
       "    </tr>\n",
       "    <tr>\n",
       "      <th>3</th>\n",
       "      <td>Tuned_Logistic_regression</td>\n",
       "      <td>0.735294</td>\n",
       "      <td>0.833333</td>\n",
       "      <td>0.766667</td>\n",
       "      <td>0.781250</td>\n",
       "      <td>0.766667</td>\n",
       "    </tr>\n",
       "    <tr>\n",
       "      <th>4</th>\n",
       "      <td>SVC</td>\n",
       "      <td>0.633333</td>\n",
       "      <td>0.633333</td>\n",
       "      <td>0.633333</td>\n",
       "      <td>0.633333</td>\n",
       "      <td>0.633333</td>\n",
       "    </tr>\n",
       "  </tbody>\n",
       "</table>\n",
       "</div>"
      ],
      "text/plain": [
       "                       Model  Precision Score  Recall Score  Accuracy Score  \\\n",
       "0              Decision Tree         0.657143      0.766667        0.683333   \n",
       "1        Tuned_decision_tree         0.617647      0.700000        0.633333   \n",
       "2        Logistic_regression         0.694444      0.833333        0.733333   \n",
       "3  Tuned_Logistic_regression         0.735294      0.833333        0.766667   \n",
       "4                        SVC         0.633333      0.633333        0.633333   \n",
       "\n",
       "   f1-score  AUC Score  \n",
       "0  0.707692   0.683333  \n",
       "1  0.656250   0.633333  \n",
       "2  0.757576   0.733333  \n",
       "3  0.781250   0.766667  \n",
       "4  0.633333   0.633333  "
      ]
     },
     "execution_count": 72,
     "metadata": {},
     "output_type": "execute_result"
    }
   ],
   "source": [
    "result_tabulation"
   ]
  },
  {
   "cell_type": "markdown",
   "id": "90eaab37",
   "metadata": {},
   "source": [
    "* Tuned Logistic Regression is giving good accuracy as well as better recall for both classes so that model should be used for any future predictions."
   ]
  }
 ],
 "metadata": {
  "kernelspec": {
   "display_name": "Python 3 (ipykernel)",
   "language": "python",
   "name": "python3"
  },
  "language_info": {
   "codemirror_mode": {
    "name": "ipython",
    "version": 3
   },
   "file_extension": ".py",
   "mimetype": "text/x-python",
   "name": "python",
   "nbconvert_exporter": "python",
   "pygments_lexer": "ipython3",
   "version": "3.11.5"
  }
 },
 "nbformat": 4,
 "nbformat_minor": 5
}
